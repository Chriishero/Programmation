{
 "cells": [
  {
   "cell_type": "code",
   "execution_count": 1,
   "metadata": {},
   "outputs": [],
   "source": [
    "import numpy as np\n",
    "import matplotlib.pyplot as plt\n",
    "import pandas as pd\n",
    "from sklearn.model_selection import train_test_split\n",
    "from sklearn.pipeline import make_pipeline\n",
    "from sklearn.tree import DecisionTreeRegressor\n",
    "from sklearn.ensemble import RandomForestClassifier, GradientBoostingClassifier, BaggingClassifier, RandomForestRegressor, GradientBoostingRegressor, BaggingRegressor\n",
    "from sklearn.neighbors import KNeighborsClassifier\n",
    "from lightgbm import LGBMClassifier, LGBMRegressor\n",
    "from xgboost import XGBClassifier, XGBRegressor\n",
    "from catboost import CatBoostClassifier, CatBoostRegressor\n",
    "from sklearn.cluster import KMeans\n",
    "from sklearn.model_selection import learning_curve\n",
    "from sklearn.preprocessing import PowerTransformer, PolynomialFeatures, RobustScaler, StandardScaler, MinMaxScaler, OneHotEncoder\n",
    "from sklearn.feature_selection import SelectKBest, f_regression, f_classif, chi2, mutual_info_classif\n",
    "from sklearn.metrics import *\n",
    "from sklearn.compose import make_column_selector, make_column_transformer\n",
    "from sklearn.impute import KNNImputer, SimpleImputer\n",
    "from sklearn.decomposition import PCA\n",
    "import scipy.stats as stats\n",
    "from scipy.stats import norm\n",
    "from sklearn.svm import SVC\n",
    "from sklearn.utils import resample # permet de faire du rééchantillonage\n",
    "import warnings\n",
    "import math"
   ]
  },
  {
   "cell_type": "code",
   "execution_count": 2,
   "metadata": {},
   "outputs": [
    {
     "name": "stdout",
     "output_type": "stream",
     "text": [
      "Index(['id', 'vendor_id', 'pickup_datetime', 'dropoff_datetime',\n",
      "       'passenger_count', 'pickup_longitude', 'pickup_latitude',\n",
      "       'dropoff_longitude', 'dropoff_latitude', 'store_and_fwd_flag',\n",
      "       'trip_duration'],\n",
      "      dtype='object')\n",
      "Index(['id', 'vendor_id', 'pickup_datetime', 'passenger_count',\n",
      "       'pickup_longitude', 'pickup_latitude', 'dropoff_longitude',\n",
      "       'dropoff_latitude', 'store_and_fwd_flag'],\n",
      "      dtype='object')\n"
     ]
    }
   ],
   "source": [
    "data_train = pd.read_csv(\"sets/train.csv\")\n",
    "dataframe = data_train.copy()\n",
    "data_test = pd.read_csv(\"sets/test.csv\")\n",
    "testset = data_test.copy()\n",
    "\n",
    "pd.set_option('display.float_format', '{:.2f}'.format)\n",
    "warnings.filterwarnings(\"ignore\")\n",
    "\n",
    "print(dataframe.columns)\n",
    "print(testset.columns)"
   ]
  },
  {
   "cell_type": "markdown",
   "metadata": {},
   "source": [
    "# **Preprocessing & Modelisation**\n",
    "## **1. Data Preprocessing**\n",
    "- ### Feature Engineering : "
   ]
  },
  {
   "cell_type": "code",
   "execution_count": 3,
   "metadata": {},
   "outputs": [],
   "source": [
    "def feature_engineering(df):\n",
    "    print(\"feature engineering\")\n",
    "\n",
    "    df[\"pickup_datetime\"] = pd.to_datetime(df[\"pickup_datetime\"])\n",
    "\n",
    "    df[\"pickup_month\"] = df[\"pickup_datetime\"].dt.month\n",
    "    df[\"pickup_weekday\"] = df[\"pickup_datetime\"].dt.weekday\n",
    "    df[\"pickup_day\"] = df[\"pickup_datetime\"].dt.day\n",
    "    df[\"pickup_hour\"] = df[\"pickup_datetime\"].dt.hour\n",
    "    df[\"pickup_dayofyear\"] = df[\"pickup_datetime\"].dt.dayofyear\n",
    "    df[\"pickup_minute\"] = df[\"pickup_datetime\"].dt.minute\n",
    "\n",
    "    df[\"latitude_difference\"] = df[\"dropoff_latitude\"] - df[\"pickup_latitude\"]\n",
    "    df[\"longitude_difference\"] = df[\"dropoff_longitude\"] - df[\"pickup_longitude\"]\n",
    "    \n",
    "    df[\"sphere_square_length\"] = np.sin(df[\"latitude_difference\"]/2)**2 + np.cos(np.radians(df[\"pickup_latitude\"])) * np.cos(np.radians(df[\"dropoff_latitude\"])) * np.sin(df[\"longitude_difference\"]/2)**2\n",
    "    df[\"sphere_square_length\"] = np.clip(df[\"sphere_square_length\"], 0, 1 - 1e-10)\n",
    "    df[\"trip_angle\"] =  2 * np.arctan2(np.sqrt(df[\"sphere_square_length\"]), np.sqrt(1 - df[\"sphere_square_length\"]))\n",
    "    df[\"trip_length\"] = 6371e3 * df[\"trip_angle\"]\n",
    "\n",
    "    X = df.select_dtypes(exclude=[\"object\", \"datetime\"]).drop([\"trip_duration\"], axis=1)\n",
    "    \"\"\"\n",
    "    K_range = range(1, 20)\n",
    "    inertia = []\n",
    "    for k in K_range:\n",
    "        model = KMeans(n_clusters=k).fit(X)\n",
    "        inertia.append(model.inertia_)\n",
    "\n",
    "    plt.plot(K_range, inertia)\n",
    "    plt.xlabel(\"Nombre de clusters\")\n",
    "    plt.ylabel(\"Cout du model (intertia)\")\"\"\"\n",
    "\n",
    "    model = KMeans(n_clusters=12, random_state=0).fit(X)\n",
    "    df[\"X_cluster\"] = model.predict(X)\n",
    "\n",
    "    return df"
   ]
  },
  {
   "cell_type": "markdown",
   "metadata": {},
   "source": [
    "- ### Encodage : \n",
    "    - pas de normalisation ou standardisation, ça génère des NaN car il y a trop peu de variance dans les variables continues"
   ]
  },
  {
   "cell_type": "code",
   "execution_count": 4,
   "metadata": {},
   "outputs": [],
   "source": [
    "def encodage(df):\n",
    "    print(\"Encodage\")\n",
    "\n",
    "    df = df.astype({col : \"float32\" for col in df.select_dtypes(include=\"float64\").columns})\n",
    "    df = df.astype({col : \"int32\" for col in df.select_dtypes(include=\"int64\").columns})\n",
    "\n",
    "    for col in df.select_dtypes([\"object\", \"datetime\"]):\n",
    "        df[col] = df[col].astype(\"category\").cat.codes\n",
    "        df[col] = df[col].replace(-1, np.nan)\n",
    "\n",
    "    return df"
   ]
  },
  {
   "cell_type": "markdown",
   "metadata": {},
   "source": [
    "- ### Selection des variables : "
   ]
  },
  {
   "cell_type": "code",
   "execution_count": 5,
   "metadata": {},
   "outputs": [],
   "source": [
    "def select_var(df):\n",
    "    return df"
   ]
  },
  {
   "cell_type": "markdown",
   "metadata": {},
   "source": [
    "- ### Imputation : "
   ]
  },
  {
   "cell_type": "code",
   "execution_count": 1,
   "metadata": {},
   "outputs": [],
   "source": [
    "def imputation(df):\n",
    "    print(\"imputation\")\n",
    "\n",
    "    drop_features = [\"id\", \"pickup_datetime\", \"dropoff_datetime\", \"store_and_fwd_flag\"]\n",
    "    for col in drop_features:\n",
    "        df = df.drop(col, axis=1)\n",
    "\n",
    "    outliers = df[df[\"trip_duration\"] > 1e6]\n",
    "    df = df.drop(outliers.index)\n",
    "\n",
    "    return df"
   ]
  },
  {
   "cell_type": "markdown",
   "metadata": {},
   "source": [
    "- ### Transformation : \n",
    "    - trip_duration : log\n",
    "    - pickup_longitude : cos\n",
    "    - dropoff_longitude : cos\n",
    "    - pickup_latitude : sin\n",
    "    - dropoff_latitude : sin\n",
    "    - trip_length : cbrt\n",
    "    - trip_angle : cbrt"
   ]
  },
  {
   "cell_type": "code",
   "execution_count": 7,
   "metadata": {},
   "outputs": [],
   "source": [
    "pt = PowerTransformer(method=\"yeo-johnson\")\n",
    "def transformation(df):\n",
    "    print(\"transformation\")\n",
    "\n",
    "    df[\"trip_duration\"] = np.log(df[\"trip_duration\"])\n",
    "    df[[\"pickup_longitude\", \"dropoff_longitude\"]] = np.cos(df[[\"pickup_longitude\", \"dropoff_longitude\"]])\n",
    "    df[[\"pickup_latitude\", \"dropoff_latitude\"]] = np.sin(df[[\"pickup_latitude\", \"dropoff_latitude\"]])\n",
    "    #df[[\"trip_length\"]] = np.cbrt(df[[\"trip_length\"]])\n",
    "    #df[trip_angle] = np.cbrt(df[trip_angle])\n",
    "\n",
    "    \"\"\"\n",
    "    col = \"trip_angle\"\n",
    "    df[col] = np.cbrt(df[col])\n",
    "\n",
    "    anderson = stats.anderson(df[col], dist=\"norm\")\n",
    "    print(f\"{col} : \", anderson.statistic)\"\"\"\n",
    "\n",
    "    return df"
   ]
  },
  {
   "cell_type": "markdown",
   "metadata": {},
   "source": [
    "- ### Train-Test split : "
   ]
  },
  {
   "cell_type": "code",
   "execution_count": 8,
   "metadata": {},
   "outputs": [],
   "source": [
    "trainset, testset = train_test_split(dataframe, test_size=0.2, random_state=0)"
   ]
  },
  {
   "cell_type": "markdown",
   "metadata": {},
   "source": [
    "- ### Preprocessing : "
   ]
  },
  {
   "cell_type": "code",
   "execution_count": 9,
   "metadata": {},
   "outputs": [
    {
     "name": "stdout",
     "output_type": "stream",
     "text": [
      "feature engineering\n",
      "Encodage\n",
      "imputation\n",
      "transformation\n",
      "feature engineering\n",
      "Encodage\n",
      "imputation\n",
      "transformation\n"
     ]
    }
   ],
   "source": [
    "def preprocessing(df):\n",
    "    df = feature_engineering(df)\n",
    "    df = encodage(df)\n",
    "    df = select_var(df)\n",
    "    df = imputation(df)\n",
    "    df = transformation(df)\n",
    "\n",
    "    X = df.drop(\"trip_duration\", axis=1)\n",
    "    y = df[\"trip_duration\"]\n",
    "\n",
    "    return X, y\n",
    "\n",
    "X_train, y_train = preprocessing(trainset)\n",
    "X_test, y_test = preprocessing(testset)"
   ]
  },
  {
   "cell_type": "markdown",
   "metadata": {},
   "source": [
    "- ### Transformation Inversion : "
   ]
  },
  {
   "cell_type": "code",
   "execution_count": 10,
   "metadata": {},
   "outputs": [],
   "source": [
    "def transformation_inversion(y_test, y_pred):\n",
    "    y_test = np.exp(y_test)\n",
    "    y_pred = np.exp(y_pred)\n",
    "\n",
    "    y_test = np.maximum(0, y_test) # valeur minimum de 0\n",
    "    y_pred = np.maximum(0, y_pred)\n",
    "\n",
    "    return y_test, y_pred"
   ]
  },
  {
   "cell_type": "markdown",
   "metadata": {},
   "source": [
    "## **2. Modelisation**\n",
    "- ### Model : "
   ]
  },
  {
   "cell_type": "code",
   "execution_count": 72,
   "metadata": {},
   "outputs": [
    {
     "data": {
      "text/plain": [
       "'\\nmodel = XGBRegressor(\\n    max_depth=8, # overfiting\\n    learning_rate=0.2, # overfiting\\n    n_estimators=300, # overfiting\\n    verbosity=1,\\n    objective=\\'reg:squarederror\\',\\n    booster=\\'gbtree\\',\\n    tree_method=\\'hist\\',\\n    n_jobs=None,\\n    gamma=0,\\n    min_child_weight=100, # overfiting\\n    max_delta_step=0,\\n    subsample=1, # overfiting\\n    colsample_bytree=1, # overfiting\\n    colsample_bylevel=1, # overfiting\\n    colsample_bynode=1,\\n    reg_alpha=20, # overfitting \\n    reg_lambda=0,\\n    scale_pos_weight=0,\\n    base_score=0.5,\\n    random_state=0,\\n    importance_type=\"gain\",\\n    gpu_id=0,\\n    predictor=None,\\n    eval_metric=\"rmsle\",\\n    seed=None,\\n    enable_categorical=False,  # XGBoost gère mal les variables catégorielles\\n    early_stopping_rounds=None,\\n    grow_policy=None\\n)'"
      ]
     },
     "execution_count": 72,
     "metadata": {},
     "output_type": "execute_result"
    }
   ],
   "source": [
    "model = LGBMRegressor(boosting_type='gbdt', num_leaves=300, max_depth=-1, learning_rate=0.20, n_estimators=350, subsample_for_bin=200000, \n",
    "                      objective=None, class_weight=None, min_split_gain=0, min_child_weight=0.001, min_child_samples=100, subsample=1.0, \n",
    "                      subsample_freq=0, colsample_bytree=1.0, reg_alpha=0.0, reg_lambda=0.0, random_state=0, n_jobs=None, importance_type='split')\n",
    "\"\"\"\n",
    "model = XGBRegressor(\n",
    "    max_depth=8, # overfiting\n",
    "    learning_rate=0.2, # overfiting\n",
    "    n_estimators=300, # overfiting\n",
    "    verbosity=1,\n",
    "    objective='reg:squarederror',\n",
    "    booster='gbtree',\n",
    "    tree_method='hist',\n",
    "    n_jobs=None,\n",
    "    gamma=0,\n",
    "    min_child_weight=100, # overfiting\n",
    "    max_delta_step=0,\n",
    "    subsample=1, # overfiting\n",
    "    colsample_bytree=1, # overfiting\n",
    "    colsample_bylevel=1, # overfiting\n",
    "    colsample_bynode=1,\n",
    "    reg_alpha=20, # overfitting \n",
    "    reg_lambda=0,\n",
    "    scale_pos_weight=0,\n",
    "    base_score=0.5,\n",
    "    random_state=0,\n",
    "    importance_type=\"gain\",\n",
    "    gpu_id=0,\n",
    "    predictor=None,\n",
    "    eval_metric=\"rmsle\",\n",
    "    seed=None,\n",
    "    enable_categorical=False,  # XGBoost gère mal les variables catégorielles\n",
    "    early_stopping_rounds=None,\n",
    "    grow_policy=None\n",
    ")\"\"\""
   ]
  },
  {
   "cell_type": "markdown",
   "metadata": {},
   "source": [
    "- ### Metric : \n",
    "    - RMSLE"
   ]
  },
  {
   "cell_type": "code",
   "execution_count": 70,
   "metadata": {},
   "outputs": [],
   "source": [
    "def rmsle(y_true, y_pred):\n",
    "    return np.sqrt(np.mean((np.log1p(y_true) - np.log1p(y_pred))**2))\n",
    "\n",
    "rmsle_scorer = make_scorer(rmsle, greater_is_better=False)"
   ]
  },
  {
   "cell_type": "markdown",
   "metadata": {},
   "source": [
    "- ### Evaluation : \n",
    "    - LGBMRegressor : \n",
    "        - Score : 0.8110 | \n",
    "        - RMSLE : 0.3805 | 0.4063\n",
    "    - XGBRegressor : \n",
    "        - Score : 0.7787| \n",
    "        - RMSLE : 0.3825 | "
   ]
  },
  {
   "cell_type": "code",
   "execution_count": 71,
   "metadata": {},
   "outputs": [
    {
     "data": {
      "image/png": "[encoded data removed]",
      "text/plain": [
       "<Figure size 640x480 with 1 Axes>"
      ]
     },
     "metadata": {},
     "output_type": "display_data"
    }
   ],
   "source": [
    "def evaluation(model):\n",
    "    X_train_sample, _, y_train_sample, _ = train_test_split(X_train, y_train, train_size=0.1, random_state=42)\n",
    "    model.fit(X_train, y_train)\n",
    "    y_pred = model.predict(X_test)\n",
    "\n",
    "    y_test_inv, y_pred_inv = transformation_inversion(y_test, y_pred)\n",
    "\n",
    "    N, train_score, val_score = learning_curve(model, X_train, y_train, cv=4, scoring=rmsle_scorer, train_sizes=np.linspace(0.1, 1, 10))\n",
    "\n",
    "    plt.figure()\n",
    "    plt.plot(N, -train_score.mean(axis=1), label=\"Train Score\")\n",
    "    plt.plot(N, -val_score.mean(axis=1), label=\"Validation Score\")\n",
    "    plt.title(f\"Score : {model.score(X_train, y_train)} | RMSLE : {root_mean_squared_log_error(y_test_inv, y_pred_inv)}\")\n",
    "    plt.legend()\n",
    "    \"\"\"\n",
    "    plt.figure()\n",
    "    plt.scatter(X_test.index, y_test, label=\"Test Value\")\n",
    "    plt.plot(X_test.index, y_pred, label=\"Predict Value\", c=\"r\")\n",
    "    plt.legend()\"\"\"\n",
    "\n",
    "evaluation(model)"
   ]
  },
  {
   "cell_type": "code",
   "execution_count": null,
   "metadata": {},
   "outputs": [],
   "source": []
  }
 ],
 "metadata": {
  "kernelspec": {
   "display_name": "Python 3",
   "language": "python",
   "name": "python3"
  },
  "language_info": {
   "codemirror_mode": {
    "name": "ipython",
    "version": 3
   },
   "file_extension": ".py",
   "mimetype": "text/x-python",
   "name": "python",
   "nbconvert_exporter": "python",
   "pygments_lexer": "ipython3",
   "version": "3.11.5"
  }
 },
 "nbformat": 4,
 "nbformat_minor": 2
}
