{
  "cells": [
    {
      "cell_type": "code",
      "execution_count": 36,
      "metadata": {},
      "outputs": [],
      "source": [
        "import pandas as pd\n",
        "import numpy as np\n",
        "import matplotlib.pyplot as plt\n",
        "import seaborn as sns\n",
        "import statistics\n",
        "from sklearn.preprocessing import PowerTransformer, StandardScaler, MinMaxScaler\n",
        "from statsmodels.stats.outliers_influence import variance_inflation_factor\n",
        "from statsmodels.tools.tools import add_constant    \n",
        "import scipy.stats as stats\n",
        "import missingno as msno\n",
        "from sklearn.ensemble import IsolationForest\n",
        "\n",
        "dataset = pd.read_csv(\"sets/train.csv\")\n",
        "df = dataset.copy()\n",
        "\n",
        "pd.set_option('display.float_format', '{:.2f}'.format)"
      ]
    },
    {
      "cell_type": "markdown",
      "metadata": {
        "id": "1Mt7rgunQigw"
      },
      "source": [
        "# **Exploratory Data Analysis (EDA)**\n",
        "## **1. Checklist de base**\n",
        "## - Basic Exploration :\n",
        "- ### Variable target :\n",
        "  - Type : `df[target].dtypes` : int64\n",
        "  - Distribution des classes : Vérifier si les classes sont déséquilibrées (classification) ou si la cible est bien répartie.\n",
        "  - Résumé statistique : `df[target].describe()` :\n"
      ]
    },
    {
      "cell_type": "code",
      "execution_count": 8,
      "metadata": {
        "id": "XLUkF3p9TmMq"
      },
      "outputs": [
        {
          "name": "stdout",
          "output_type": "stream",
          "text": [
            "count   1458644.00\n",
            "mean        959.49\n",
            "std        5237.43\n",
            "min           1.00\n",
            "25%         397.00\n",
            "50%         662.00\n",
            "75%        1075.00\n",
            "max     3526282.00\n",
            "Name: trip_duration, dtype: float64\n"
          ]
        }
      ],
      "source": [
        "print(df[\"trip_duration\"].describe())"
      ]
    },
    {
      "cell_type": "markdown",
      "metadata": {
        "id": "N7nYjR4bQigx"
      },
      "source": [
        "- ### Lignes et colonnes :\n",
        "  - Nombre de lignes et de colonnes : `df.shape` : (1458644, 11)\n",
        "  - Données uniques / redondantes : `df.columns.duplicated()` : aucune\n"
      ]
    },
    {
      "cell_type": "code",
      "execution_count": 3,
      "metadata": {
        "id": "qCATwk_kTha-"
      },
      "outputs": [
        {
          "name": "stdout",
          "output_type": "stream",
          "text": [
            "(1458644, 11)\n",
            "[False False False False False False False False False False False]\n"
          ]
        }
      ],
      "source": [
        "print(df.shape)\n",
        "print(df.columns.duplicated())"
      ]
    },
    {
      "cell_type": "markdown",
      "metadata": {
        "id": "Ntm0u-TtTkdM"
      },
      "source": [
        "- ### Types de variables :\n",
        "  - Catégorielles : 2\n",
        "  - Continues : 7\n",
        "  - Dates / Temps : 2"
      ]
    },
    {
      "cell_type": "code",
      "execution_count": 69,
      "metadata": {
        "id": "Kq9vh4vpTqmN"
      },
      "outputs": [
        {
          "name": "stdout",
          "output_type": "stream",
          "text": [
            "<class 'pandas.core.frame.DataFrame'>\n",
            "RangeIndex: 1458644 entries, 0 to 1458643\n",
            "Data columns (total 11 columns):\n",
            " #   Column              Non-Null Count    Dtype  \n",
            "---  ------              --------------    -----  \n",
            " 0   id                  1458644 non-null  object \n",
            " 1   vendor_id           1458644 non-null  int64  \n",
            " 2   pickup_datetime     1458644 non-null  object \n",
            " 3   dropoff_datetime    1458644 non-null  object \n",
            " 4   passenger_count     1458644 non-null  int64  \n",
            " 5   pickup_longitude    1458644 non-null  float64\n",
            " 6   pickup_latitude     1458644 non-null  float64\n",
            " 7   dropoff_longitude   1458644 non-null  float64\n",
            " 8   dropoff_latitude    1458644 non-null  float64\n",
            " 9   store_and_fwd_flag  1458644 non-null  object \n",
            " 10  trip_duration       1458644 non-null  int64  \n",
            "dtypes: float64(4), int64(3), object(4)\n",
            "memory usage: 122.4+ MB\n",
            "None\n",
            "0    id2875421\n",
            "1    id2377394\n",
            "2    id3858529\n",
            "3    id3504673\n",
            "4    id2181028\n",
            "Name: id, dtype: object\n"
          ]
        }
      ],
      "source": [
        "print(df.info())\n",
        "print(df['id'].head())"
      ]
    },
    {
      "cell_type": "markdown",
      "metadata": {
        "id": "EqcyRu5NTq_h"
      },
      "source": [
        "- ### Analyse de valeurs manquantes (heatmap) :\n",
        "  - Proportions par colonnes : aucune\n",
        "  - Méthodes de gestion :     \n",
        "    - Supression :     \n",
        "    - Imputation :    \n"
      ]
    },
    {
      "cell_type": "code",
      "execution_count": 20,
      "metadata": {
        "id": "8pXAzsk7kqAe"
      },
      "outputs": [
        {
          "name": "stdout",
          "output_type": "stream",
          "text": [
            "id                   0.00\n",
            "vendor_id            0.00\n",
            "pickup_datetime      0.00\n",
            "dropoff_datetime     0.00\n",
            "passenger_count      0.00\n",
            "pickup_longitude     0.00\n",
            "pickup_latitude      0.00\n",
            "dropoff_longitude    0.00\n",
            "dropoff_latitude     0.00\n",
            "store_and_fwd_flag   0.00\n",
            "trip_duration        0.00\n",
            "dtype: float64\n"
          ]
        },
        {
          "data": {
            "text/plain": [
              "<Axes: >"
            ]
          },
          "execution_count": 20,
          "metadata": {},
          "output_type": "execute_result"
        },
        {
          "data": {
            "image/png": "[encoded data removed]",
            "text/plain": [
              "<Figure size 800x600 with 2 Axes>"
            ]
          },
          "metadata": {},
          "output_type": "display_data"
        }
      ],
      "source": [
        "nan_value = df.isna().sum()/df.shape[0]\n",
        "print(nan_value)\n",
        "msno.matrix(df, figsize=(8, 6))"
      ]
    },
    {
      "cell_type": "markdown",
      "metadata": {
        "id": "jIyCpmawkdvE"
      },
      "source": [
        "- ### Analyse des outliers (IQR, Z-score, boxplot) :\n",
        "  - Proportions par colonnes (IQR) : 104113 \n",
        "    - passenger_count :  0.033138997589542064\n",
        "    - pickup_longitude :  0.00025160354411357395\n",
        "    - pickup_latitude :  0.02300972684219042\n",
        "    - dropoff_longitude :  0.001696095825986327\n",
        "    - dropoff_latitude :  0.011858959417102459\n",
        "    - trip_duration :  0.0014211829617096427\n",
        "  - Observations : \n",
        "    - l'IQR détecte beaucoup d'ouliers, distributions asymétriques\n",
        "    - beaucoup de Z-Score élevé (97459), ce qui indique des distributions asymétriques\n",
        "    - l'IsolationForest ne détecte aucun outliers, dans ce cas, c'est cette métrique la plus fiable dû aux distributions asymétriques\n",
        "\n",
        "  - Méthodes de gestion :\n",
        "    - Supression : aucune\n",
        "    - Imputation : aucune\n"
      ]
    },
    {
      "cell_type": "code",
      "execution_count": 66,
      "metadata": {
        "id": "mnXFGlk1UzND"
      },
      "outputs": [
        {
          "name": "stdout",
          "output_type": "stream",
          "text": [
            "vendor_id : 0 : 0.0\n",
            "passenger_count : 48338 : 0.033138997589542064\n",
            "pickup_longitude : 367 : 0.00025160354411357395\n",
            "pickup_latitude : 33563 : 0.02300972684219042\n",
            "dropoff_longitude : 2474 : 0.001696095825986327\n",
            "dropoff_latitude : 17298 : 0.011858959417102459\n",
            "trip_duration : 2073 : 0.0014211829617096427\n",
            "Nombres d'outliers : 104113 (0.07137656618064449)\n"
          ]
        }
      ],
      "source": [
        "continuous_features = df.select_dtypes(exclude=\"object\").columns\n",
        "\n",
        "def outliers_detection(df):\n",
        "    # liste d'anomalies\n",
        "    anomalies = []\n",
        "\n",
        "    # Limite supérieur et inférieur à 3 écarts types\n",
        "    data_std = statistics.stdev(df)\n",
        "    data_mean = statistics.mean(df)\n",
        "    anomaly_cut_off = data_std * 3\n",
        "\n",
        "    lower_limit = data_mean - anomaly_cut_off\n",
        "    upper_limit = data_mean + anomaly_cut_off\n",
        "\n",
        "    # Génère les outliers\n",
        "    for outlier in df:\n",
        "        if outlier > upper_limit or outlier < lower_limit:\n",
        "            anomalies.append(outlier)\n",
        "    \n",
        "    return anomalies\n",
        "\n",
        "n_outliers = 0\n",
        "for col in continuous_features:\n",
        "    outliers = outliers_detection(df[col])\n",
        "    print(f\"{col} : {len(outliers)} : {len(outliers)/df.shape[0]}\")\n",
        "    n_outliers += len(outliers)\n",
        "\n",
        "print(f\"Nombres d'outliers : {n_outliers} ({n_outliers/df.shape[0]})\")"
      ]
    },
    {
      "cell_type": "code",
      "execution_count": 60,
      "metadata": {},
      "outputs": [
        {
          "data": {
            "text/plain": [
              "<Axes: >"
            ]
          },
          "execution_count": 60,
          "metadata": {},
          "output_type": "execute_result"
        },
        {
          "data": {
            "image/png": "[encoded data removed]",
            "text/plain": [
              "<Figure size 640x480 with 1 Axes>"
            ]
          },
          "metadata": {},
          "output_type": "display_data"
        }
      ],
      "source": [
        "scaled_df = pd.DataFrame(MinMaxScaler().fit_transform(df[continuous_features]), columns=continuous_features)\n",
        "sns.boxplot(df)"
      ]
    },
    {
      "cell_type": "code",
      "execution_count": null,
      "metadata": {},
      "outputs": [
        {
          "data": {
            "text/plain": [
              "<matplotlib.legend.Legend at 0x160a1a70ad0>"
            ]
          },
          "execution_count": 34,
          "metadata": {},
          "output_type": "execute_result"
        },
        {
          "data": {
            "image/png": "[encoded data removed]",
            "text/plain": [
              "<Figure size 640x480 with 1 Axes>"
            ]
          },
          "metadata": {},
          "output_type": "display_data"
        }
      ],
      "source": [
        "model = IsolationForest(random_state=0, contamination='auto')\n",
        "model.fit(scaled_df)\n",
        "outliers_predict = model.predict(scaled_df) == -1\n",
        "anomaly_score = model.decision_function(scaled_df)\n",
        "\n",
        "plt.hist(anomaly_score, bins=50)\n",
        "plt.axvline(x=-0.5, color=\"red\", linestyle=\"--\", label=\"Seuil  = -0.5\")\n",
        "plt.title(\"Distribution des scores d'anomalies\")\n",
        "plt.xlabel(\"Seuil d'anomalie\")\n",
        "plt.ylabel(\"Nombre d'anomalie\")\n",
        "plt.legend()"
      ]
    },
    {
      "cell_type": "code",
      "execution_count": 67,
      "metadata": {},
      "outputs": [
        {
          "name": "stdout",
          "output_type": "stream",
          "text": [
            "Nombres d'outliers (z-score) :  97459\n"
          ]
        }
      ],
      "source": [
        "z_scores = stats.zscore(scaled_df)\n",
        "outliers = df[(np.abs(z_scores) > 3).any(axis=1)]\n",
        "\n",
        "print(\"Nombres d'outliers (z-score) : \", len(outliers))"
      ]
    },
    {
      "cell_type": "markdown",
      "metadata": {
        "id": "XDHvGkVgVKfo"
      },
      "source": [
        "\n",
        "\n",
        "---\n",
        "\n",
        "\n",
        "## - Data Cleaning :    \n",
        "- ### Renommer les colonnes : `df.rename(function, axis=1, inplace=true)` : `col.replace(a, b)` :  "
      ]
    },
    {
      "cell_type": "code",
      "execution_count": null,
      "metadata": {
        "id": "M-89Hkn_WTNo"
      },
      "outputs": [],
      "source": []
    },
    {
      "cell_type": "markdown",
      "metadata": {
        "id": "PEoGoNc7WVIJ"
      },
      "source": [
        "- ### Supprimer les colonnes inutiles :    "
      ]
    },
    {
      "cell_type": "code",
      "execution_count": 70,
      "metadata": {
        "id": "zoIUkX6FWbvZ"
      },
      "outputs": [],
      "source": [
        "df = df.drop(\"id\", axis=1)"
      ]
    },
    {
      "cell_type": "markdown",
      "metadata": {
        "id": "H9eZbF8RWfCs"
      },
      "source": [
        "- ### Fusionner les colonnes redondantes :    "
      ]
    },
    {
      "cell_type": "code",
      "execution_count": null,
      "metadata": {
        "id": "Ud9ScJ-_WmXR"
      },
      "outputs": [],
      "source": []
    },
    {
      "cell_type": "markdown",
      "metadata": {
        "id": "0n6q0CG5WqvW"
      },
      "source": [
        "- ### Convertir les types des colonnes :   "
      ]
    },
    {
      "cell_type": "code",
      "execution_count": 78,
      "metadata": {
        "id": "8HWMei_FWuGA"
      },
      "outputs": [
        {
          "name": "stdout",
          "output_type": "stream",
          "text": [
            "float32           7\n",
            "datetime64[ns]    2\n",
            "object            1\n",
            "Name: count, dtype: int64\n"
          ]
        }
      ],
      "source": [
        "df[\"dropoff_datetime\"] = pd.to_datetime(df[\"dropoff_datetime\"])\n",
        "df[\"pickup_datetime\"] = pd.to_datetime(df[\"pickup_datetime\"])\n",
        "\n",
        "df = df.astype({col : \"float32\" for col in continuous_features})\n",
        "print(df.dtypes.value_counts())"
      ]
    },
    {
      "cell_type": "markdown",
      "metadata": {
        "id": "yhgNxgNdWw69"
      },
      "source": [
        "- ### Gérer les valeurs manquantes :"
      ]
    },
    {
      "cell_type": "code",
      "execution_count": null,
      "metadata": {
        "id": "M35MAzAdWykc"
      },
      "outputs": [],
      "source": []
    },
    {
      "cell_type": "markdown",
      "metadata": {
        "id": "_8axguRdkWLZ"
      },
      "source": [
        "- ### Gérer les outliers :"
      ]
    },
    {
      "cell_type": "code",
      "execution_count": null,
      "metadata": {
        "id": "kP-69pUHkarZ"
      },
      "outputs": [],
      "source": []
    },
    {
      "cell_type": "markdown",
      "metadata": {
        "id": "X0lKGlHPW6yp"
      },
      "source": [
        "\n",
        "\n",
        "---\n",
        "\n",
        "\n",
        "## **2. Exploration Uni-variable**\n",
        "- ### Variables Continues (histogram, boxplot, scatterplot):\n",
        "  - Skewness (>0.5 ou <-0.5) : `(décalé)` :\n",
        "  - Kurtosis (>5 ou ou <1) : `(forme applatie/pointue)` :\n",
        "  - Variance :\n",
        "  - Homoscedasticité :\n",
        "  - Observation :"
      ]
    },
    {
      "cell_type": "code",
      "execution_count": null,
      "metadata": {
        "id": "fTnIJmzsZroh"
      },
      "outputs": [],
      "source": []
    },
    {
      "cell_type": "markdown",
      "metadata": {
        "id": "6CvRZJB3ZsTF"
      },
      "source": [
        "- ### Variables Catégorielles (barchat, countplot) :\n",
        "  - Multiclasse :\n",
        "  - Binaire :\n",
        "  - Catégories dominantes :"
      ]
    },
    {
      "cell_type": "code",
      "execution_count": null,
      "metadata": {
        "id": "FhNXreygZuME"
      },
      "outputs": [],
      "source": []
    },
    {
      "cell_type": "markdown",
      "metadata": {
        "id": "Z8aUZURTiIef"
      },
      "source": [
        "## **3. Exploration Bi-variable**\n",
        "- ### Variables Continues (scatterplot, matrice de corrélation) :\n",
        "  - Observations :"
      ]
    },
    {
      "cell_type": "code",
      "execution_count": null,
      "metadata": {
        "id": "oMp75yHNmnnq"
      },
      "outputs": [],
      "source": []
    },
    {
      "cell_type": "markdown",
      "metadata": {
        "id": "HQMSq42Cmoe8"
      },
      "source": [
        "- ### Variables Continue et Catégorielle (boxplot, violonplot, barplot, heatmap, cramer's-v, PMF, PDF, CDF) :\n",
        "  - Observations :"
      ]
    },
    {
      "cell_type": "code",
      "execution_count": null,
      "metadata": {
        "id": "ByINZ2_6m2Wu"
      },
      "outputs": [],
      "source": []
    },
    {
      "cell_type": "markdown",
      "metadata": {
        "id": "miJY6JYZm3Qn"
      },
      "source": [
        "- ### Variables Catégorielle (boxplot, violonplot, barplot, heatmap, cramer's-v, PMF, PDF, CDF) :\n",
        "  - Observations :"
      ]
    },
    {
      "cell_type": "code",
      "execution_count": null,
      "metadata": {
        "id": "8s7OlDKqn1Ci"
      },
      "outputs": [],
      "source": []
    },
    {
      "cell_type": "markdown",
      "metadata": {
        "id": "xgLcD9bKn1RS"
      },
      "source": [
        "\n",
        "\n",
        "---\n",
        "\n",
        "\n",
        "## **4. Exploration Multi-variable**\n",
        "- ### Variables Continues (scatterplot, matrice de corrélation) :\n",
        "  - Observations :\n"
      ]
    },
    {
      "cell_type": "code",
      "execution_count": null,
      "metadata": {
        "id": "XjMIorLupf6S"
      },
      "outputs": [],
      "source": []
    },
    {
      "cell_type": "markdown",
      "metadata": {
        "id": "YzPpCzyyphpt"
      },
      "source": [
        "- ### Variables Continue et Catégorielle (boxplot, violonplot, barplot, heatmap, cramer's-v, PMF, PDF, CDF) :\n",
        "  - Observations :"
      ]
    },
    {
      "cell_type": "code",
      "execution_count": null,
      "metadata": {
        "id": "jp0JS3HepiO5"
      },
      "outputs": [],
      "source": []
    },
    {
      "cell_type": "markdown",
      "metadata": {
        "id": "-iTXC7C3pirT"
      },
      "source": [
        "- ### Variables Catégorielle (boxplot, violonplot, barplot, heatmap, cramer's-v, PMF, PDF, CDF) :\n",
        "  - Observations :"
      ]
    },
    {
      "cell_type": "code",
      "execution_count": null,
      "metadata": {
        "id": "5gtLCXyQpksH"
      },
      "outputs": [],
      "source": []
    },
    {
      "cell_type": "markdown",
      "metadata": {
        "id": "wpgHz1njp2AK"
      },
      "source": [
        "\n",
        "\n",
        "---\n",
        "\n",
        "\n",
        "## **5. Préparation des données pour la modélisation**\n",
        "- ### Encodage :\n",
        "  - ### Target :\n",
        "  - ### Features :\n",
        "- ### Transformation :\n",
        "  - ### Feature Scaling :\n",
        "  - ### Transformation Mathématique :\n",
        "- ### Feature Engineering :"
      ]
    }
  ],
  "metadata": {
    "colab": {
      "provenance": []
    },
    "kernelspec": {
      "display_name": "base",
      "language": "python",
      "name": "python3"
    },
    "language_info": {
      "codemirror_mode": {
        "name": "ipython",
        "version": 3
      },
      "file_extension": ".py",
      "mimetype": "text/x-python",
      "name": "python",
      "nbconvert_exporter": "python",
      "pygments_lexer": "ipython3",
      "version": "3.12.7"
    }
  },
  "nbformat": 4,
  "nbformat_minor": 0
}
