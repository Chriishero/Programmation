{
  "cells": [
    {
      "cell_type": "markdown",
      "metadata": {
        "id": "1Mt7rgunQigw"
      },
      "source": [
        "# **Exploratory Data Analysis (EDA)**\n",
        "## **1. Checklist de base**\n",
        "## - Basic Exploration :\n",
        "- ### Variable target :\n",
        "  - Type : `df[target].dtypes` :\n",
        "  - Distribution des classes : Vérifier si les classes sont déséquilibrées (classification) ou si la cible est bien répartie.\n",
        "  - Résumé statistique : `df[target].describe()` :\n"
      ]
    },
    {
      "cell_type": "code",
      "source": [],
      "metadata": {
        "id": "XLUkF3p9TmMq"
      },
      "execution_count": null,
      "outputs": []
    },
    {
      "cell_type": "markdown",
      "metadata": {
        "id": "N7nYjR4bQigx"
      },
      "source": [
        "- ### Lignes et colonnes :\n",
        "  - Nombre de lignes et de colonnes : `df.shape` :\n",
        "  - Données uniques / redondantes : `df.columns.duplicated()` :\n"
      ]
    },
    {
      "cell_type": "code",
      "source": [],
      "metadata": {
        "id": "qCATwk_kTha-"
      },
      "execution_count": null,
      "outputs": []
    },
    {
      "cell_type": "markdown",
      "source": [
        "- ### Types de variables :\n",
        "  - Catégorielles :\n",
        "  - Continues :\n",
        "  - Dates / Temps :"
      ],
      "metadata": {
        "id": "Ntm0u-TtTkdM"
      }
    },
    {
      "cell_type": "code",
      "source": [],
      "metadata": {
        "id": "Kq9vh4vpTqmN"
      },
      "execution_count": null,
      "outputs": []
    },
    {
      "cell_type": "markdown",
      "source": [
        "- ### Analyse de valeurs manquantes (heatmap) :\n",
        "  - Proportions par colonnes :\n",
        "  - Méthodes de gestion :     \n",
        "    - Supression :     \n",
        "    - Imputation :    \n"
      ],
      "metadata": {
        "id": "EqcyRu5NTq_h"
      }
    },
    {
      "cell_type": "code",
      "source": [],
      "metadata": {
        "id": "8pXAzsk7kqAe"
      },
      "execution_count": null,
      "outputs": []
    },
    {
      "cell_type": "markdown",
      "source": [
        "- ### Analyse des outliers (IQR, Z-score, boxplot) :\n",
        "  - Proportions par colonnes :\n",
        "  - Méthodes de gestion :\n",
        "    - Supression :\n",
        "    - Imputation :\n"
      ],
      "metadata": {
        "id": "jIyCpmawkdvE"
      }
    },
    {
      "cell_type": "code",
      "source": [],
      "metadata": {
        "id": "mnXFGlk1UzND"
      },
      "execution_count": null,
      "outputs": []
    },
    {
      "cell_type": "markdown",
      "source": [
        "\n",
        "\n",
        "---\n",
        "\n",
        "\n",
        "## - Data Cleaning :    \n",
        "- ### Renommer les colonnes : `df.rename(function, axis=1, inplace=true)` : `col.replace(a, b)` :  "
      ],
      "metadata": {
        "id": "XDHvGkVgVKfo"
      }
    },
    {
      "cell_type": "code",
      "source": [],
      "metadata": {
        "id": "M-89Hkn_WTNo"
      },
      "execution_count": null,
      "outputs": []
    },
    {
      "cell_type": "markdown",
      "source": [
        "- ### Supprimer les colonnes inutiles :    "
      ],
      "metadata": {
        "id": "PEoGoNc7WVIJ"
      }
    },
    {
      "cell_type": "code",
      "source": [],
      "metadata": {
        "id": "zoIUkX6FWbvZ"
      },
      "execution_count": null,
      "outputs": []
    },
    {
      "cell_type": "markdown",
      "source": [
        "- ### Fusionner les colonnes redondantes :    "
      ],
      "metadata": {
        "id": "H9eZbF8RWfCs"
      }
    },
    {
      "cell_type": "code",
      "source": [],
      "metadata": {
        "id": "Ud9ScJ-_WmXR"
      },
      "execution_count": null,
      "outputs": []
    },
    {
      "cell_type": "markdown",
      "source": [
        "- ### Convertir les types des colonnes :   "
      ],
      "metadata": {
        "id": "0n6q0CG5WqvW"
      }
    },
    {
      "cell_type": "code",
      "source": [],
      "metadata": {
        "id": "8HWMei_FWuGA"
      },
      "execution_count": null,
      "outputs": []
    },
    {
      "cell_type": "markdown",
      "source": [
        "- ### Gérer les valeurs manquantes :"
      ],
      "metadata": {
        "id": "yhgNxgNdWw69"
      }
    },
    {
      "cell_type": "code",
      "source": [],
      "metadata": {
        "id": "M35MAzAdWykc"
      },
      "execution_count": null,
      "outputs": []
    },
    {
      "cell_type": "markdown",
      "source": [
        "- ### Gérer les outliers :"
      ],
      "metadata": {
        "id": "_8axguRdkWLZ"
      }
    },
    {
      "cell_type": "code",
      "source": [],
      "metadata": {
        "id": "kP-69pUHkarZ"
      },
      "execution_count": null,
      "outputs": []
    },
    {
      "cell_type": "markdown",
      "source": [
        "\n",
        "\n",
        "---\n",
        "\n",
        "\n",
        "## **2. Exploration Uni-variable**\n",
        "- ### Variables Continues (histogram, boxplot, scatterplot):\n",
        "  - Skewness (>0.5 ou <-0.5) : `(décalé)` :\n",
        "  - Kurtosis (>5 ou ou <1) : `(forme applatie/pointue)` :\n",
        "  - Variance :\n",
        "  - Homoscedasticité :\n",
        "  - Observation :"
      ],
      "metadata": {
        "id": "X0lKGlHPW6yp"
      }
    },
    {
      "cell_type": "code",
      "source": [],
      "metadata": {
        "id": "fTnIJmzsZroh"
      },
      "execution_count": null,
      "outputs": []
    },
    {
      "cell_type": "markdown",
      "source": [
        "- ### Variables Catégorielles (barchat, countplot) :\n",
        "  - Multiclasse :\n",
        "  - Binaire :\n",
        "  - Catégories dominantes :"
      ],
      "metadata": {
        "id": "6CvRZJB3ZsTF"
      }
    },
    {
      "cell_type": "code",
      "source": [],
      "metadata": {
        "id": "FhNXreygZuME"
      },
      "execution_count": null,
      "outputs": []
    },
    {
      "cell_type": "markdown",
      "source": [
        "## **3. Exploration Bi-variable**\n",
        "- ### Variables Continues (scatterplot, matrice de corrélation) :\n",
        "  - Observations :"
      ],
      "metadata": {
        "id": "Z8aUZURTiIef"
      }
    },
    {
      "cell_type": "code",
      "source": [],
      "metadata": {
        "id": "oMp75yHNmnnq"
      },
      "execution_count": null,
      "outputs": []
    },
    {
      "cell_type": "markdown",
      "source": [
        "- ### Variables Continue et Catégorielle (boxplot, violonplot, barplot, heatmap, cramer's-v, PMF, PDF, CDF) :\n",
        "  - Observations :"
      ],
      "metadata": {
        "id": "HQMSq42Cmoe8"
      }
    },
    {
      "cell_type": "code",
      "source": [],
      "metadata": {
        "id": "ByINZ2_6m2Wu"
      },
      "execution_count": null,
      "outputs": []
    },
    {
      "cell_type": "markdown",
      "source": [
        "- ### Variables Catégorielle (boxplot, violonplot, barplot, heatmap, cramer's-v, PMF, PDF, CDF) :\n",
        "  - Observations :"
      ],
      "metadata": {
        "id": "miJY6JYZm3Qn"
      }
    },
    {
      "cell_type": "code",
      "source": [],
      "metadata": {
        "id": "8s7OlDKqn1Ci"
      },
      "execution_count": null,
      "outputs": []
    },
    {
      "cell_type": "markdown",
      "source": [
        "\n",
        "\n",
        "---\n",
        "\n",
        "\n",
        "## **4. Exploration Multi-variable**\n",
        "- ### Variables Continues (scatterplot, matrice de corrélation) :\n",
        "  - Observations :\n"
      ],
      "metadata": {
        "id": "xgLcD9bKn1RS"
      }
    },
    {
      "cell_type": "code",
      "source": [],
      "metadata": {
        "id": "XjMIorLupf6S"
      },
      "execution_count": null,
      "outputs": []
    },
    {
      "cell_type": "markdown",
      "source": [
        "- ### Variables Continue et Catégorielle (boxplot, violonplot, barplot, heatmap, cramer's-v, PMF, PDF, CDF) :\n",
        "  - Observations :"
      ],
      "metadata": {
        "id": "YzPpCzyyphpt"
      }
    },
    {
      "cell_type": "code",
      "source": [],
      "metadata": {
        "id": "jp0JS3HepiO5"
      },
      "execution_count": null,
      "outputs": []
    },
    {
      "cell_type": "markdown",
      "source": [
        "- ### Variables Catégorielle (boxplot, violonplot, barplot, heatmap, cramer's-v, PMF, PDF, CDF) :\n",
        "  - Observations :"
      ],
      "metadata": {
        "id": "-iTXC7C3pirT"
      }
    },
    {
      "cell_type": "code",
      "source": [],
      "metadata": {
        "id": "5gtLCXyQpksH"
      },
      "execution_count": null,
      "outputs": []
    },
    {
      "cell_type": "markdown",
      "source": [
        "\n",
        "\n",
        "---\n",
        "\n",
        "\n",
        "## **5. Préparation des données pour la modélisation**\n",
        "- ### Encodage :\n",
        "  - ### Target :\n",
        "  - ### Features :\n",
        "- ### Transformation :\n",
        "  - ### Feature Scaling :\n",
        "  - ### Transformation Mathématique :\n",
        "- ### Feature Engineering :"
      ],
      "metadata": {
        "id": "wpgHz1njp2AK"
      }
    }
  ],
  "metadata": {
    "language_info": {
      "name": "python"
    },
    "colab": {
      "provenance": []
    }
  },
  "nbformat": 4,
  "nbformat_minor": 0
}