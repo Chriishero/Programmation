{
 "cells": [
  {
   "cell_type": "code",
   "execution_count": 3,
   "metadata": {},
   "outputs": [],
   "source": [
    "import numpy as np\n",
    "import matplotlib.pyplot as plt\n",
    "import seaborn as sns\n",
    "import pandas as pd\n",
    "from sklearn.model_selection import train_test_split\n",
    "from sklearn.pipeline import make_pipeline\n",
    "from sklearn.tree import DecisionTreeRegressor, DecisionTreeClassifier\n",
    "from sklearn.ensemble import RandomForestClassifier, GradientBoostingClassifier, BaggingClassifier, RandomForestRegressor, GradientBoostingRegressor, BaggingRegressor\n",
    "from sklearn.neighbors import KNeighborsClassifier\n",
    "from lightgbm import LGBMClassifier, LGBMRegressor\n",
    "from xgboost import XGBClassifier, XGBRegressor\n",
    "from catboost import CatBoostClassifier, CatBoostRegressor\n",
    "from sklearn.cluster import KMeans\n",
    "from sklearn.model_selection import learning_curve\n",
    "from sklearn.preprocessing import PowerTransformer, PolynomialFeatures, RobustScaler, StandardScaler, MinMaxScaler, OneHotEncoder\n",
    "from sklearn.feature_selection import SelectKBest, f_regression, f_classif, chi2, mutual_info_classif\n",
    "from sklearn.metrics import *\n",
    "from sklearn.compose import make_column_selector, make_column_transformer\n",
    "from sklearn.impute import KNNImputer, SimpleImputer\n",
    "from sklearn.decomposition import PCA\n",
    "import scipy.stats as stats\n",
    "from scipy.stats import norm\n",
    "from sklearn.svm import SVC\n",
    "from sklearn.utils import resample # permet de faire du rééchantillonage\n",
    "import warnings\n",
    "import math"
   ]
  },
  {
   "cell_type": "code",
   "execution_count": 4,
   "metadata": {},
   "outputs": [
    {
     "name": "stdout",
     "output_type": "stream",
     "text": [
      "Index(['Id', 'Elevation', 'Aspect', 'Slope',\n",
      "       'Horizontal_Distance_To_Hydrology', 'Vertical_Distance_To_Hydrology',\n",
      "       'Horizontal_Distance_To_Roadways', 'Hillshade_9am', 'Hillshade_Noon',\n",
      "       'Hillshade_3pm', 'Horizontal_Distance_To_Fire_Points',\n",
      "       'Wilderness_Area1', 'Wilderness_Area2', 'Wilderness_Area3',\n",
      "       'Wilderness_Area4', 'Soil_Type1', 'Soil_Type2', 'Soil_Type3',\n",
      "       'Soil_Type4', 'Soil_Type5', 'Soil_Type6', 'Soil_Type7', 'Soil_Type8',\n",
      "       'Soil_Type9', 'Soil_Type10', 'Soil_Type11', 'Soil_Type12',\n",
      "       'Soil_Type13', 'Soil_Type14', 'Soil_Type15', 'Soil_Type16',\n",
      "       'Soil_Type17', 'Soil_Type18', 'Soil_Type19', 'Soil_Type20',\n",
      "       'Soil_Type21', 'Soil_Type22', 'Soil_Type23', 'Soil_Type24',\n",
      "       'Soil_Type25', 'Soil_Type26', 'Soil_Type27', 'Soil_Type28',\n",
      "       'Soil_Type29', 'Soil_Type30', 'Soil_Type31', 'Soil_Type32',\n",
      "       'Soil_Type33', 'Soil_Type34', 'Soil_Type35', 'Soil_Type36',\n",
      "       'Soil_Type37', 'Soil_Type38', 'Soil_Type39', 'Soil_Type40',\n",
      "       'Cover_Type'],\n",
      "      dtype='object')\n",
      "Index(['Id', 'Elevation', 'Aspect', 'Slope',\n",
      "       'Horizontal_Distance_To_Hydrology', 'Vertical_Distance_To_Hydrology',\n",
      "       'Horizontal_Distance_To_Roadways', 'Hillshade_9am', 'Hillshade_Noon',\n",
      "       'Hillshade_3pm', 'Horizontal_Distance_To_Fire_Points',\n",
      "       'Wilderness_Area1', 'Wilderness_Area2', 'Wilderness_Area3',\n",
      "       'Wilderness_Area4', 'Soil_Type1', 'Soil_Type2', 'Soil_Type3',\n",
      "       'Soil_Type4', 'Soil_Type5', 'Soil_Type6', 'Soil_Type7', 'Soil_Type8',\n",
      "       'Soil_Type9', 'Soil_Type10', 'Soil_Type11', 'Soil_Type12',\n",
      "       'Soil_Type13', 'Soil_Type14', 'Soil_Type15', 'Soil_Type16',\n",
      "       'Soil_Type17', 'Soil_Type18', 'Soil_Type19', 'Soil_Type20',\n",
      "       'Soil_Type21', 'Soil_Type22', 'Soil_Type23', 'Soil_Type24',\n",
      "       'Soil_Type25', 'Soil_Type26', 'Soil_Type27', 'Soil_Type28',\n",
      "       'Soil_Type29', 'Soil_Type30', 'Soil_Type31', 'Soil_Type32',\n",
      "       'Soil_Type33', 'Soil_Type34', 'Soil_Type35', 'Soil_Type36',\n",
      "       'Soil_Type37', 'Soil_Type38', 'Soil_Type39', 'Soil_Type40'],\n",
      "      dtype='object')\n"
     ]
    }
   ],
   "source": [
    "train_dataset = pd.read_csv(\"sets/train.csv\") \n",
    "df = train_dataset.copy()\n",
    "test_dataset = pd.read_csv(\"sets/test.csv\") \n",
    "test_df = test_dataset.copy()\n",
    "\n",
    "pd.set_option('display.float_format', '{:.2f}'.format)\n",
    "warnings.filterwarnings(\"ignore\")\n",
    "\n",
    "print(df.columns)\n",
    "print(test_df.columns)\n",
    "\n",
    "continuous_features = ['Id', 'Elevation', 'Aspect', 'Slope', 'Horizontal_Distance_To_Hydrology', 'Vertical_Distance_To_Hydrology', 'Horizontal_Distance_To_Roadways', 'Horizontal_Distance_To_Fire_Points']\n",
    "categorial_features = df.drop(continuous_features, axis=1).columns"
   ]
  },
  {
   "cell_type": "markdown",
   "metadata": {},
   "source": [
    "# **Preprocessing & Modelisation**\n",
    "## **1. Data Preprocessing**\n",
    "- ### Feature Engineering : "
   ]
  },
  {
   "cell_type": "code",
   "execution_count": 37,
   "metadata": {},
   "outputs": [],
   "source": [
    "def feature_engineering(df):\n",
    "    df[\"Soil_Types\"] = df[[col for col in categorial_features if 'Soil' in col]].idxmax(axis=1)\n",
    "    df[\"Wilderness_Area\"] = df[[col for col in categorial_features if 'Wilderness' in col]].idxmax(axis=1)\n",
    "\n",
    "    df[\"Hypothenuse_Distance_To_Hydrology\"] = np.sqrt(df[\"Horizontal_Distance_To_Hydrology\"]**2 + df[\"Vertical_Distance_To_Hydrology\"]**2)\n",
    "    df[\"Distance_To_Hydrology\"] = np.sqrt(df[\"Elevation\"]**2 + df[\"Horizontal_Distance_To_Hydrology\"]**2)\n",
    "    df[\"Hypothenuse_Distance_To_Roadways\"] = np.sqrt(df[\"Elevation\"]**2 + df[\"Horizontal_Distance_To_Roadways\"]**2)\n",
    "    df[\"Hypothenuse_Distance_To_Roadways-Hydrology\"] = np.sqrt(df[\"Vertical_Distance_To_Hydrology\"]**2 + df[\"Horizontal_Distance_To_Roadways\"]**2)\n",
    "    df[\"Hypothenuse_Distance_To_Fire_Points\"] = np.sqrt(df[\"Elevation\"]**2 + df[\"Horizontal_Distance_To_Fire_Points\"]**2)\n",
    "    df[\"Hypothenuse_Distance_To_Fire_Points-Hydrology\"] = np.sqrt(df[\"Vertical_Distance_To_Hydrology\"]**2 + df[\"Horizontal_Distance_To_Fire_Points\"]**2)\n",
    "    df[\"Distance_To_Roadways-Fire_Points\"] = np.abs(df[\"Horizontal_Distance_To_Roadways\"] - df[\"Horizontal_Distance_To_Fire_Points\"])\n",
    "    df[\"Distance_To_Roadways-Hydrology\"] = np.abs(df[\"Horizontal_Distance_To_Roadways\"] - df[\"Horizontal_Distance_To_Hydrology\"])\n",
    "    df[\"Distance_To_Fire_Points-Hydrology\"] = np.abs(df[\"Horizontal_Distance_To_Fire_Points\"] - df[\"Horizontal_Distance_To_Hydrology\"])\n",
    "    df[\"Difference_Elevation-Hydrology\"] = np.abs(df[\"Elevation\"] - df[\"Vertical_Distance_To_Hydrology\"])\n",
    "    df[\"Northness\"] = np.cos(np.radians(df[\"Aspect\"]))\n",
    "    df[\"Eastness\"] = np.sin(np.radians(df[\"Aspect\"]))\n",
    "    df[\"Roughness\"] = np.sqrt(df[\"Slope\"]**2 + np.cos(np.radians(df[\"Aspect\"]))**2 + np.sin(np.radians(df[\"Aspect\"]))**2)\n",
    "\n",
    "\n",
    "    return df"
   ]
  },
  {
   "cell_type": "markdown",
   "metadata": {},
   "source": [
    "- ### Encodage : "
   ]
  },
  {
   "cell_type": "code",
   "execution_count": 38,
   "metadata": {},
   "outputs": [],
   "source": [
    "def encodage(df):\n",
    "    #df[continuous_features] = StandardScaler().fit_transform(df[continuous_features])\n",
    "    for col in df.select_dtypes(include=\"object\").columns:\n",
    "        df[col] = df[col].astype(\"category\").cat.codes\n",
    "    df = df.astype({col : \"int16\" for col in df.columns})\n",
    "\n",
    "    return df"
   ]
  },
  {
   "cell_type": "markdown",
   "metadata": {},
   "source": [
    "- ### Selection des variables : "
   ]
  },
  {
   "cell_type": "code",
   "execution_count": 39,
   "metadata": {},
   "outputs": [],
   "source": [
    "def features_selection(df):\n",
    "    return df"
   ]
  },
  {
   "cell_type": "markdown",
   "metadata": {},
   "source": [
    "- ### Imputation : \n",
    "    - la suppression de 'Hillshade_9am' et 'Hillshade_3pm' semble étonnement augmenter les performances du modèles\n",
    "    - idem pour Slope"
   ]
  },
  {
   "cell_type": "code",
   "execution_count": 40,
   "metadata": {},
   "outputs": [],
   "source": [
    "def imputation(df):\n",
    "    #df = df.drop([col for col in categorial_features if \"Soil_Type\" in col], axis=1)\n",
    "    df = df.drop([\"Id\", \"Horizontal_Distance_To_Hydrology\", \"Vertical_Distance_To_Hydrology\", \"Elevation\", \"Wilderness_Area1\", \"Soil_Type7\", \"Soil_Type15\", \"Hillshade_9am\", \"Hillshade_3pm\", \n",
    "                  \"Soil_Type1\", \"Soil_Type4\", \"Soil_Type29\"], axis=1)\n",
    "    df = df.drop([\"Soil_Types\", \"Wilderness_Area\", \"Distance_To_Hydrology\", \"Hypothenuse_Distance_To_Roadways-Hydrology\", \"Distance_To_Fire_Points-Hydrology\", \"Northness\", \"Eastness\", \"Roughness\"], axis=1)\n",
    "    \n",
    "    scaled_df = pd.DataFrame(MinMaxScaler().fit_transform(df), columns=df.columns, index=df.index)\n",
    "    #outliers = scaled_df[scaled_df[\"Vertical_Distance_To_Hydrology\"] > 0.9]\n",
    "    #df = df.drop(outliers.index)\n",
    "\n",
    "    return df"
   ]
  },
  {
   "cell_type": "markdown",
   "metadata": {},
   "source": [
    "- ### Transformation : \n",
    "    - Aspect : cbrt : 109\n",
    "    - Slope : sqrt : 18\n",
    "    - Horizontal_Distance_To_Hydrology : sqrt : 42\n",
    "    - Vertical_Distance_To_Hydrology : cbrt : 223\n",
    "    - Horizontal_Distance_To_Roadways : cbrt : 22\n",
    "    - Horizontal_Distance_To_Fire_Points : cbrt : 9"
   ]
  },
  {
   "cell_type": "code",
   "execution_count": 41,
   "metadata": {},
   "outputs": [
    {
     "name": "stdout",
     "output_type": "stream",
     "text": [
      "['Id', 'Elevation', 'Aspect', 'Slope', 'Horizontal_Distance_To_Hydrology', 'Vertical_Distance_To_Hydrology', 'Horizontal_Distance_To_Roadways', 'Horizontal_Distance_To_Fire_Points']\n"
     ]
    }
   ],
   "source": [
    "print(continuous_features)\n",
    "def transformation(df):\n",
    "    print(\"transformation\")\n",
    "    for col in [\"Aspect\", \"Vertical_Distance_To_Hydrology\", \"Horizontal_Distance_To_Roadways\", \"Horizontal_Distance_To_Fire_Points\"]:\n",
    "        if col in df.columns:\n",
    "            df[col] = np.cbrt(df[col])\n",
    "    for col in [\"Vertical_Distance_To_Hydrology\"]:\n",
    "        if col in df.columns:\n",
    "            df[col] = np.sqrt(df[col])\n",
    "\n",
    "    \"\"\"\n",
    "    col = \"Horizontal_Distance_To_Fire_Points\"\n",
    "    df[col] = np.cbrt(df[col])\n",
    "\n",
    "    anderson = stats.anderson(df[col], dist=\"norm\")\n",
    "    print(f\"{col} : \", anderson.statistic)\"\"\"\n",
    "\n",
    "    return df"
   ]
  },
  {
   "cell_type": "markdown",
   "metadata": {},
   "source": [
    "- ### Train-Test split : "
   ]
  },
  {
   "cell_type": "code",
   "execution_count": 42,
   "metadata": {},
   "outputs": [],
   "source": [
    "trainset, testset = train_test_split(df, test_size=0.2, random_state=0)"
   ]
  },
  {
   "cell_type": "markdown",
   "metadata": {},
   "source": [
    "- ### Preprocessing : "
   ]
  },
  {
   "cell_type": "code",
   "execution_count": 43,
   "metadata": {},
   "outputs": [
    {
     "name": "stdout",
     "output_type": "stream",
     "text": [
      "transformation\n",
      "transformation\n"
     ]
    }
   ],
   "source": [
    "def preprocessing(df):\n",
    "    df = feature_engineering(df)\n",
    "    df = encodage(df)\n",
    "    df = features_selection(df)\n",
    "    df = imputation(df)\n",
    "    df = transformation(df)\n",
    "\n",
    "    X = df.drop(\"Cover_Type\", axis=1)\n",
    "    y = df[\"Cover_Type\"]\n",
    "    y -= 1\n",
    "\n",
    "    return X, y\n",
    "\n",
    "X_train, y_train = preprocessing(trainset)\n",
    "X_test, y_test = preprocessing(testset)"
   ]
  },
  {
   "cell_type": "markdown",
   "metadata": {},
   "source": [
    "- ### Transformation Inversion : "
   ]
  },
  {
   "cell_type": "code",
   "execution_count": 44,
   "metadata": {},
   "outputs": [],
   "source": [
    "def transformation_inversion(y_test, y_pred):\n",
    "    return y_test, y_pred"
   ]
  },
  {
   "cell_type": "markdown",
   "metadata": {},
   "source": [
    "## **2. Modelisation**\n",
    "- ### Model : "
   ]
  },
  {
   "cell_type": "code",
   "execution_count": 194,
   "metadata": {},
   "outputs": [
    {
     "data": {
      "text/plain": [
       "'\\nOverfitting : \\nmax_depth, min_weight_fraction_leaf, max_leaf_nodes, min_impurity_decrease, min_split_gain\\n'"
      ]
     },
     "execution_count": 194,
     "metadata": {},
     "output_type": "execute_result"
    }
   ],
   "source": [
    "model = make_pipeline(RandomForestClassifier(random_state=0, n_estimators=390, criterion=\"entropy\", max_depth=None, min_weight_fraction_leaf=0, max_features=\"log2\", max_leaf_nodes=None, min_impurity_decrease=0,\n",
    "                               bootstrap=False, oob_score=False, n_jobs=-1, warm_start=False, class_weight=\"balanced_subsample\", ccp_alpha=0.0005, max_samples=None))\n",
    "\"\"\"\n",
    "model = XGBClassifier(\n",
    "    objective='multi:softmax',\n",
    "    booster='gbtree',\n",
    "    tree_method='auto',\n",
    "    grow_policy='depthwise',\n",
    "    max_depth=10,\n",
    "    learning_rate=0.4,\n",
    "    n_estimators=100,\n",
    "    silent=True,\n",
    "    n_jobs=-1,\n",
    "    gamma=0,\n",
    "    min_child_weight=0, # overfitting\n",
    "    max_delta_step=0,\n",
    "    subsample=1,\n",
    "    colsample_bytree=1,\n",
    "    colsample_bylevel=1,\n",
    "    colsample_bynode=1,\n",
    "    reg_alpha=0,\n",
    "    reg_lambda=0,\n",
    "    scale_pos_weight=1,\n",
    "    base_score=0.5,\n",
    "    random_state=0,\n",
    "    importance_type='weight',\n",
    "    enable_categorical=False,\n",
    "    interaction_constraints=None,\n",
    "    max_bin=256,\n",
    "    monotone_constraints=None,\n",
    "    num_parallel_tree=1,\n",
    "    predictor='auto',\n",
    "    n_gpus=0,\n",
    "    validate_parameters=1,\n",
    "    use_label_encoder=True,\n",
    "    grow_policy_depthwise=False\n",
    ")\"\"\"\n",
    "\"\"\"\n",
    "model = LGBMClassifier(boosting_type='gbdt', num_leaves=200, max_depth=-1, learning_rate=0.15, n_estimators=100, subsample_for_bin=200000, objective=None, class_weight='balanced', \n",
    "                       min_split_gain=2.5, min_child_weight=0.001, min_child_samples=20, subsample=1, subsample_freq=0, colsample_bytree=1, reg_alpha=0.0, reg_lambda=0.0, random_state=0, \n",
    "                       n_jobs=-1, importance_type='split', verbosity=-1)\"\"\"\n",
    "\n",
    "\"\"\"\n",
    "Overfitting : \n",
    "max_depth, min_weight_fraction_leaf, max_leaf_nodes, min_impurity_decrease, min_split_gain\n",
    "\"\"\""
   ]
  },
  {
   "cell_type": "markdown",
   "metadata": {},
   "source": [
    "- ### Metric : "
   ]
  },
  {
   "cell_type": "code",
   "execution_count": null,
   "metadata": {},
   "outputs": [],
   "source": []
  },
  {
   "cell_type": "markdown",
   "metadata": {},
   "source": [
    "- ### Evaluation : Accuracy\n",
    "    - RandomForestClasssifier :\n",
    "        - 1.000, 0.8896\n",
    "        - 0.9559, 0.8413\n",
    "        - 0.9685, 0.8601 : min_weight_fraction_leaf 0.00035\n",
    "        - 0.9652, 0.8608 : min_impurity_decrease 0.0003\n",
    "        - 0.9545, 0.8628 : ccp_alpha 0.0005\n",
    "        - 0.8649, 0.8151 : ccp_alpha 0.0013\n",
    "    - XGBoostClassifier :\n",
    "        - 1.000, 0.8806\n",
    "    - LGBMClassifier : \n",
    "        - 1.000, 0.8826\n",
    "        - 0.9187, 0.8347\n",
    "        - 0.9402, 0.8495 : aucune suppression de variable"
   ]
  },
  {
   "cell_type": "code",
   "execution_count": 193,
   "metadata": {},
   "outputs": [
    {
     "name": "stdout",
     "output_type": "stream",
     "text": [
      "Train score : 0.9545\n",
      "Test score : 0.8628\n"
     ]
    },
    {
     "data": {
      "image/png": "[encoded data removed]",
      "text/plain": [
       "<Figure size 640x480 with 2 Axes>"
      ]
     },
     "metadata": {},
     "output_type": "display_data"
    }
   ],
   "source": [
    "def evaluation(model):\n",
    "    model.fit(X_train, y_train)\n",
    "    y_train_pred = model.predict(X_train)\n",
    "    y_pred = model.predict(X_test)\n",
    "\n",
    "    y_test_inv, y_pred_inv = transformation_inversion(y_test, y_pred)\n",
    "\n",
    "    train_score = accuracy_score(y_train, y_train_pred)\n",
    "    test_score = accuracy_score(y_test_inv, y_pred_inv)\n",
    "    print(f\"Train score : {train_score:.4f}\")\n",
    "    print(f\"Test score : {test_score:.4f}\")\n",
    "    \"\"\"\n",
    "    N, train_score, val_score = learning_curve(model, X_train, y_train, cv=4, scoring=\"accuracy\", train_sizes=np.linspace(0.1, 1.0, 10), random_state=0)\n",
    "\n",
    "    plt.figure()\n",
    "    plt.plot(N, train_score.mean(axis=1), label=\"Train Score\")\n",
    "    plt.plot(N, val_score.mean(axis=1), label=\"Validation Score\")\n",
    "    plt.title(f\"Accuracy Score : {accuracy_score(y_test_inv, y_pred_inv):.4f}\")\n",
    "    plt.legend()\"\"\"\n",
    "\n",
    "    plt.figure()\n",
    "    cm = confusion_matrix(y_test_inv, y_pred_inv)\n",
    "    sns.heatmap(cm, annot=True, fmt=\"d\", cmap=\"Blues\")\n",
    "    plt.xlabel(\"Prediction\")\n",
    "    plt.ylabel(\"True Value\")\n",
    "    plt.title(\"Confusion Matrix\")\n",
    "\n",
    "evaluation(model)"
   ]
  },
  {
   "cell_type": "code",
   "execution_count": null,
   "metadata": {},
   "outputs": [],
   "source": []
  }
 ],
 "metadata": {
  "kernelspec": {
   "display_name": "base",
   "language": "python",
   "name": "python3"
  },
  "language_info": {
   "codemirror_mode": {
    "name": "ipython",
    "version": 3
   },
   "file_extension": ".py",
   "mimetype": "text/x-python",
   "name": "python",
   "nbconvert_exporter": "python",
   "pygments_lexer": "ipython3",
   "version": "3.12.7"
  }
 },
 "nbformat": 4,
 "nbformat_minor": 2
}
