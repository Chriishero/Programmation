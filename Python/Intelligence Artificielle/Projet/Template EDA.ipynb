{
  "cells": [
    {
      "cell_type": "markdown",
      "metadata": {
        "id": "1Mt7rgunQigw"
      },
      "source": [
        "# **Exploratory Data Analysis (EDA)**\n",
        "## **1. Checklist de base**\n",
        "## - Basic Exploration :\n",
        "- ### Variable target :\n",
        "  - Type : `df[target].dtypes` :\n",
        "  - Distribution des classes : Vérifier si les classes sont déséquilibrées (classification) ou si la cible est bien répartie.\n",
        "  - Résumé statistique : `df[target].describe()` :\n"
      ]
    },
    {
      "cell_type": "code",
      "execution_count": null,
      "metadata": {
        "id": "XLUkF3p9TmMq"
      },
      "outputs": [],
      "source": []
    },
    {
      "cell_type": "markdown",
      "metadata": {
        "id": "N7nYjR4bQigx"
      },
      "source": [
        "- ### Lignes et colonnes :\n",
        "  - Nombre de lignes et de colonnes : `df.shape` :\n",
        "  - Données uniques / redondantes : `df.columns.duplicated()` :\n"
      ]
    },
    {
      "cell_type": "code",
      "execution_count": null,
      "metadata": {
        "id": "qCATwk_kTha-"
      },
      "outputs": [],
      "source": []
    },
    {
      "cell_type": "markdown",
      "metadata": {
        "id": "Ntm0u-TtTkdM"
      },
      "source": [
        "- ### Types de variables :\n",
        "  - Catégorielles :\n",
        "  - Continues :\n",
        "  - Dates / Temps :"
      ]
    },
    {
      "cell_type": "code",
      "execution_count": null,
      "metadata": {
        "id": "Kq9vh4vpTqmN"
      },
      "outputs": [],
      "source": []
    },
    {
      "cell_type": "markdown",
      "metadata": {
        "id": "EqcyRu5NTq_h"
      },
      "source": [
        "- ### Analyse de valeurs manquantes (heatmap) :\n",
        "  - Proportions par colonnes :\n",
        "  - Méthodes de gestion :     \n",
        "    - Supression :     \n",
        "    - Imputation :    \n"
      ]
    },
    {
      "cell_type": "code",
      "execution_count": null,
      "metadata": {
        "id": "8pXAzsk7kqAe"
      },
      "outputs": [],
      "source": []
    },
    {
      "cell_type": "markdown",
      "metadata": {
        "id": "jIyCpmawkdvE"
      },
      "source": [
        "- ### Analyse des outliers (IQR, Z-score, boxplot) :\n",
        "  - Proportions par colonnes :\n",
        "  - Observations : \n",
        "  - Méthodes de gestion :\n",
        "    - Supression :\n",
        "    - Imputation :\n"
      ]
    },
    {
      "cell_type": "code",
      "execution_count": null,
      "metadata": {
        "id": "mnXFGlk1UzND"
      },
      "outputs": [],
      "source": []
    },
    {
      "cell_type": "markdown",
      "metadata": {
        "id": "XDHvGkVgVKfo"
      },
      "source": [
        "\n",
        "\n",
        "---\n",
        "\n",
        "\n",
        "## - Data Cleaning :    \n",
        "- ### Renommer les colonnes : `df.rename(function, axis=1, inplace=true)` : `col.replace(a, b)` :  "
      ]
    },
    {
      "cell_type": "code",
      "execution_count": null,
      "metadata": {
        "id": "M-89Hkn_WTNo"
      },
      "outputs": [],
      "source": []
    },
    {
      "cell_type": "markdown",
      "metadata": {
        "id": "PEoGoNc7WVIJ"
      },
      "source": [
        "- ### Supprimer les colonnes inutiles :    "
      ]
    },
    {
      "cell_type": "code",
      "execution_count": null,
      "metadata": {
        "id": "zoIUkX6FWbvZ"
      },
      "outputs": [],
      "source": []
    },
    {
      "cell_type": "markdown",
      "metadata": {
        "id": "H9eZbF8RWfCs"
      },
      "source": [
        "- ### Fusionner les colonnes redondantes :    "
      ]
    },
    {
      "cell_type": "code",
      "execution_count": null,
      "metadata": {
        "id": "Ud9ScJ-_WmXR"
      },
      "outputs": [],
      "source": []
    },
    {
      "cell_type": "markdown",
      "metadata": {
        "id": "0n6q0CG5WqvW"
      },
      "source": [
        "- ### Convertir les types des colonnes :   "
      ]
    },
    {
      "cell_type": "code",
      "execution_count": null,
      "metadata": {
        "id": "8HWMei_FWuGA"
      },
      "outputs": [],
      "source": []
    },
    {
      "cell_type": "markdown",
      "metadata": {
        "id": "yhgNxgNdWw69"
      },
      "source": [
        "- ### Gérer les valeurs manquantes :"
      ]
    },
    {
      "cell_type": "code",
      "execution_count": null,
      "metadata": {
        "id": "M35MAzAdWykc"
      },
      "outputs": [],
      "source": []
    },
    {
      "cell_type": "markdown",
      "metadata": {
        "id": "_8axguRdkWLZ"
      },
      "source": [
        "- ### Gérer les outliers :"
      ]
    },
    {
      "cell_type": "code",
      "execution_count": null,
      "metadata": {
        "id": "kP-69pUHkarZ"
      },
      "outputs": [],
      "source": []
    },
    {
      "cell_type": "markdown",
      "metadata": {
        "id": "X0lKGlHPW6yp"
      },
      "source": [
        "\n",
        "\n",
        "---\n",
        "\n",
        "\n",
        "## **2. Exploration Uni-variable**\n",
        "- ### Variables Continues :\n",
        "  - Skewness (>0.5 ou <-0.5) : `(décalé)` :\n",
        "  - Kurtosis (>5 ou ou <1) : `(forme applatie/pointue)` :\n",
        "  - Variance (cv > 1.5 ou <0.1):\n",
        "  - Normalité (p-value < 0.05) :\n",
        "  - Homoscedasticité (Breusch-Pagan >0.05):\n",
        "  - Observations :"
      ]
    },
    {
      "cell_type": "code",
      "execution_count": null,
      "metadata": {
        "id": "fTnIJmzsZroh"
      },
      "outputs": [],
      "source": []
    },
    {
      "cell_type": "markdown",
      "metadata": {},
      "source": [
        "- Statistiques de base (skew, kurt, var, std, range) : "
      ]
    },
    {
      "cell_type": "code",
      "execution_count": null,
      "metadata": {},
      "outputs": [],
      "source": []
    },
    {
      "cell_type": "markdown",
      "metadata": {},
      "source": [
        "- Forme de la distribution (Histogramme, Boxplot, Scatterplot) : "
      ]
    },
    {
      "cell_type": "code",
      "execution_count": null,
      "metadata": {},
      "outputs": [],
      "source": []
    },
    {
      "cell_type": "markdown",
      "metadata": {},
      "source": [
        "- Normalité (QQPlot, Shapiro-Wilk, Kolmogorov-Smirnov, Lilliefors) : "
      ]
    },
    {
      "cell_type": "code",
      "execution_count": null,
      "metadata": {},
      "outputs": [],
      "source": []
    },
    {
      "cell_type": "markdown",
      "metadata": {},
      "source": [
        "- Homoscedasticité (Breusch-Pagan, probplot) : "
      ]
    },
    {
      "cell_type": "code",
      "execution_count": null,
      "metadata": {},
      "outputs": [],
      "source": []
    },
    {
      "cell_type": "markdown",
      "metadata": {
        "id": "6CvRZJB3ZsTF"
      },
      "source": [
        "- ### Variables Catégorielles :\n",
        "  - Multiclasse :\n",
        "  - Binaire :\n",
        "  - Catégories dominantes :\n",
        "  - Observations : "
      ]
    },
    {
      "cell_type": "code",
      "execution_count": null,
      "metadata": {
        "id": "FhNXreygZuME"
      },
      "outputs": [],
      "source": []
    },
    {
      "cell_type": "markdown",
      "metadata": {},
      "source": [
        "- Statistiques descriptives (fréquence, mode): "
      ]
    },
    {
      "cell_type": "code",
      "execution_count": null,
      "metadata": {},
      "outputs": [],
      "source": []
    },
    {
      "cell_type": "markdown",
      "metadata": {},
      "source": [
        "- Distribution des classes (barchat, countplot) : "
      ]
    },
    {
      "cell_type": "code",
      "execution_count": null,
      "metadata": {},
      "outputs": [],
      "source": []
    },
    {
      "cell_type": "markdown",
      "metadata": {
        "id": "Z8aUZURTiIef"
      },
      "source": [
        "## **3. Exploration Bi-variable**\n",
        "- ### Variables Continues (scatterplot, matrice de corrélation) :\n",
        "  - Corrélations : \n",
        "  - Observations :"
      ]
    },
    {
      "cell_type": "code",
      "execution_count": null,
      "metadata": {
        "id": "oMp75yHNmnnq"
      },
      "outputs": [],
      "source": []
    },
    {
      "cell_type": "markdown",
      "metadata": {},
      "source": [
        "- Visualisations de corrélations (heatmap, scatterplot) : "
      ]
    },
    {
      "cell_type": "code",
      "execution_count": null,
      "metadata": {},
      "outputs": [],
      "source": []
    },
    {
      "cell_type": "markdown",
      "metadata": {},
      "source": [
        "- Statistiques de corrélations (pearson, spearman, kendall) : "
      ]
    },
    {
      "cell_type": "code",
      "execution_count": null,
      "metadata": {},
      "outputs": [],
      "source": []
    },
    {
      "cell_type": "markdown",
      "metadata": {
        "id": "HQMSq42Cmoe8"
      },
      "source": [
        "- ### Variables Continues et Catégorielles :\n",
        "  - Corrélations : \n",
        "  - Skewness (>0.5 ou <-0.5) : `(décalé)` : \n",
        "  - Variance (cv >1) :\n",
        "  - Observations :"
      ]
    },
    {
      "cell_type": "code",
      "execution_count": null,
      "metadata": {
        "id": "ByINZ2_6m2Wu"
      },
      "outputs": [],
      "source": []
    },
    {
      "cell_type": "markdown",
      "metadata": {},
      "source": [
        "- Visualisations de corrélations (boxplot, violonplot, barplot) : "
      ]
    },
    {
      "cell_type": "code",
      "execution_count": null,
      "metadata": {},
      "outputs": [],
      "source": []
    },
    {
      "cell_type": "markdown",
      "metadata": {},
      "source": [
        "- Statistiques de bases (mean, skew, var) : "
      ]
    },
    {
      "cell_type": "code",
      "execution_count": null,
      "metadata": {},
      "outputs": [],
      "source": []
    },
    {
      "cell_type": "markdown",
      "metadata": {},
      "source": [
        "- Statistiques de relations (t de Student, ANOVA, Kruskal-Wallis, CDF, point-biserial) : "
      ]
    },
    {
      "cell_type": "code",
      "execution_count": null,
      "metadata": {},
      "outputs": [],
      "source": []
    },
    {
      "cell_type": "markdown",
      "metadata": {
        "id": "miJY6JYZm3Qn"
      },
      "source": [
        "- ### Variables Catégorielles (heatmap, cramer's-v, PMF, CDF) :\n",
        "  - Corrélations : \n",
        "  - Observations :"
      ]
    },
    {
      "cell_type": "code",
      "execution_count": null,
      "metadata": {
        "id": "8s7OlDKqn1Ci"
      },
      "outputs": [],
      "source": []
    },
    {
      "cell_type": "markdown",
      "metadata": {},
      "source": [
        "- Visualisations de corrélations (boxplot, violongplot, barplot) : "
      ]
    },
    {
      "cell_type": "code",
      "execution_count": null,
      "metadata": {},
      "outputs": [],
      "source": []
    },
    {
      "cell_type": "markdown",
      "metadata": {},
      "source": [
        "- Stastiques de corrélations (Cramér's V, chi2, fisher, kendall) : "
      ]
    },
    {
      "cell_type": "code",
      "execution_count": null,
      "metadata": {},
      "outputs": [],
      "source": []
    },
    {
      "cell_type": "markdown",
      "metadata": {},
      "source": [
        "- Statistiques de probabilités (CDF, PMF) : "
      ]
    },
    {
      "cell_type": "code",
      "execution_count": null,
      "metadata": {},
      "outputs": [],
      "source": []
    },
    {
      "cell_type": "markdown",
      "metadata": {
        "id": "xgLcD9bKn1RS"
      },
      "source": [
        "\n",
        "\n",
        "---\n",
        "\n",
        "\n",
        "## **4. Exploration Multi-variable**\n",
        "- ### Variables Continues (scatterplot, matrice de corrélation, régression/classification) :\n",
        "  - Corrélations : \n",
        "  - Observations :\n"
      ]
    },
    {
      "cell_type": "code",
      "execution_count": null,
      "metadata": {
        "id": "XjMIorLupf6S"
      },
      "outputs": [],
      "source": []
    },
    {
      "cell_type": "markdown",
      "metadata": {},
      "source": [
        "- Visualisations des corrélations (3d scatterplot, pairplot, heatmap, 3d surface plot) : "
      ]
    },
    {
      "cell_type": "code",
      "execution_count": null,
      "metadata": {},
      "outputs": [],
      "source": []
    },
    {
      "cell_type": "markdown",
      "metadata": {},
      "source": [
        "- Tests stastistiques (PCA, MANOVA, VIF) : "
      ]
    },
    {
      "cell_type": "code",
      "execution_count": null,
      "metadata": {},
      "outputs": [],
      "source": []
    },
    {
      "cell_type": "markdown",
      "metadata": {},
      "source": [
        "- Modélisation simple (régression/classification avec statsmodel) : "
      ]
    },
    {
      "cell_type": "code",
      "execution_count": null,
      "metadata": {},
      "outputs": [],
      "source": []
    },
    {
      "cell_type": "markdown",
      "metadata": {
        "id": "YzPpCzyyphpt"
      },
      "source": [
        "- ### Variables Continues et Catégorielles (boxplot, violonplot, barplot, heatmap, cramer's-v, PMF, PDF, CDF, régression/classification) :\n",
        "  - Corrélations : \n",
        "  - Observations :"
      ]
    },
    {
      "cell_type": "code",
      "execution_count": null,
      "metadata": {
        "id": "jp0JS3HepiO5"
      },
      "outputs": [],
      "source": []
    },
    {
      "cell_type": "markdown",
      "metadata": {},
      "source": [
        "- Visualisations des corrélations (boxplot, violonplot, histplot, pairplot hue=Category) : "
      ]
    },
    {
      "cell_type": "code",
      "execution_count": null,
      "metadata": {},
      "outputs": [],
      "source": []
    },
    {
      "cell_type": "markdown",
      "metadata": {},
      "source": [
        "- Tests statistiques (MANOVA, Kruskal-Wallis, Cochran-Mantel-Haenszel, test d'intéractions) :"
      ]
    },
    {
      "cell_type": "code",
      "execution_count": null,
      "metadata": {},
      "outputs": [],
      "source": []
    },
    {
      "cell_type": "markdown",
      "metadata": {},
      "source": [
        "- Modélisation simple (régression/classification avec statsmodel) : "
      ]
    },
    {
      "cell_type": "code",
      "execution_count": null,
      "metadata": {},
      "outputs": [],
      "source": []
    },
    {
      "cell_type": "markdown",
      "metadata": {
        "id": "-iTXC7C3pirT"
      },
      "source": [
        "- ### Variables Catégorielles (boxplot, violonplot, barplot, heatmap, cramer's-v, PMF, CDF, régression/classification) :\n",
        "  - Corrélations : \n",
        "  - Observations :"
      ]
    },
    {
      "cell_type": "code",
      "execution_count": null,
      "metadata": {
        "id": "5gtLCXyQpksH"
      },
      "outputs": [],
      "source": []
    },
    {
      "cell_type": "markdown",
      "metadata": {},
      "source": [
        "- Visualisations des corrélations (heatmap, catplot, pairplot, facetgrid) : "
      ]
    },
    {
      "cell_type": "code",
      "execution_count": null,
      "metadata": {},
      "outputs": [],
      "source": []
    },
    {
      "cell_type": "markdown",
      "metadata": {},
      "source": [
        "- Tests statistiques (cramèr's V, chi2, modèle log-linéaire, tests d'indépendances conditionnels)"
      ]
    },
    {
      "cell_type": "code",
      "execution_count": null,
      "metadata": {},
      "outputs": [],
      "source": []
    },
    {
      "cell_type": "markdown",
      "metadata": {},
      "source": [
        "- Modélisation simple (régression/classification avec statsmodel) : "
      ]
    },
    {
      "cell_type": "code",
      "execution_count": null,
      "metadata": {},
      "outputs": [],
      "source": []
    },
    {
      "cell_type": "markdown",
      "metadata": {
        "id": "wpgHz1njp2AK"
      },
      "source": [
        "\n",
        "\n",
        "---\n",
        "\n",
        "\n",
        "## **5. Préparation des données pour la modélisation**\n",
        "- ### Encodage :\n",
        "  - ### Target :\n",
        "  - ### Features :\n",
        "- ### Transformation :\n",
        "  - ### Feature Scaling :\n",
        "  - ### Transformation Mathématique :\n",
        "- ### Feature Engineering :"
      ]
    }
  ],
  "metadata": {
    "colab": {
      "provenance": []
    },
    "kernelspec": {
      "display_name": "base",
      "language": "python",
      "name": "python3"
    },
    "language_info": {
      "codemirror_mode": {
        "name": "ipython",
        "version": 3
      },
      "file_extension": ".py",
      "mimetype": "text/x-python",
      "name": "python",
      "nbconvert_exporter": "python",
      "pygments_lexer": "ipython3",
      "version": "3.12.7"
    }
  },
  "nbformat": 4,
  "nbformat_minor": 0
}
