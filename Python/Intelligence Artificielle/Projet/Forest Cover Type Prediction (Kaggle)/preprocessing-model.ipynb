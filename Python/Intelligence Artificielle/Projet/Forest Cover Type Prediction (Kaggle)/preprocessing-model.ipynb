{
 "cells": [
  {
   "cell_type": "code",
   "execution_count": 170,
   "metadata": {},
   "outputs": [],
   "source": [
    "import numpy as np\n",
    "import matplotlib.pyplot as plt\n",
    "import seaborn as sns\n",
    "import pandas as pd\n",
    "from sklearn.model_selection import train_test_split\n",
    "from sklearn.pipeline import make_pipeline\n",
    "from sklearn.tree import DecisionTreeRegressor\n",
    "from sklearn.ensemble import RandomForestClassifier, GradientBoostingClassifier, BaggingClassifier, RandomForestRegressor, GradientBoostingRegressor, BaggingRegressor\n",
    "from sklearn.neighbors import KNeighborsClassifier\n",
    "from lightgbm import LGBMClassifier, LGBMRegressor\n",
    "from xgboost import XGBClassifier, XGBRegressor\n",
    "from catboost import CatBoostClassifier, CatBoostRegressor\n",
    "from sklearn.cluster import KMeans\n",
    "from sklearn.model_selection import learning_curve\n",
    "from sklearn.preprocessing import PowerTransformer, PolynomialFeatures, RobustScaler, StandardScaler, MinMaxScaler, OneHotEncoder\n",
    "from sklearn.feature_selection import SelectKBest, f_regression, f_classif, chi2, mutual_info_classif\n",
    "from sklearn.metrics import *\n",
    "from sklearn.compose import make_column_selector, make_column_transformer\n",
    "from sklearn.impute import KNNImputer, SimpleImputer\n",
    "from sklearn.decomposition import PCA\n",
    "import scipy.stats as stats\n",
    "from scipy.stats import norm\n",
    "from sklearn.svm import SVC\n",
    "from sklearn.utils import resample # permet de faire du rééchantillonage\n",
    "import warnings\n",
    "import math"
   ]
  },
  {
   "cell_type": "code",
   "execution_count": 171,
   "metadata": {},
   "outputs": [
    {
     "name": "stdout",
     "output_type": "stream",
     "text": [
      "Index(['Id', 'Elevation', 'Aspect', 'Slope',\n",
      "       'Horizontal_Distance_To_Hydrology', 'Vertical_Distance_To_Hydrology',\n",
      "       'Horizontal_Distance_To_Roadways', 'Hillshade_9am', 'Hillshade_Noon',\n",
      "       'Hillshade_3pm', 'Horizontal_Distance_To_Fire_Points',\n",
      "       'Wilderness_Area1', 'Wilderness_Area2', 'Wilderness_Area3',\n",
      "       'Wilderness_Area4', 'Soil_Type1', 'Soil_Type2', 'Soil_Type3',\n",
      "       'Soil_Type4', 'Soil_Type5', 'Soil_Type6', 'Soil_Type7', 'Soil_Type8',\n",
      "       'Soil_Type9', 'Soil_Type10', 'Soil_Type11', 'Soil_Type12',\n",
      "       'Soil_Type13', 'Soil_Type14', 'Soil_Type15', 'Soil_Type16',\n",
      "       'Soil_Type17', 'Soil_Type18', 'Soil_Type19', 'Soil_Type20',\n",
      "       'Soil_Type21', 'Soil_Type22', 'Soil_Type23', 'Soil_Type24',\n",
      "       'Soil_Type25', 'Soil_Type26', 'Soil_Type27', 'Soil_Type28',\n",
      "       'Soil_Type29', 'Soil_Type30', 'Soil_Type31', 'Soil_Type32',\n",
      "       'Soil_Type33', 'Soil_Type34', 'Soil_Type35', 'Soil_Type36',\n",
      "       'Soil_Type37', 'Soil_Type38', 'Soil_Type39', 'Soil_Type40',\n",
      "       'Cover_Type'],\n",
      "      dtype='object')\n",
      "Index(['Id', 'Elevation', 'Aspect', 'Slope',\n",
      "       'Horizontal_Distance_To_Hydrology', 'Vertical_Distance_To_Hydrology',\n",
      "       'Horizontal_Distance_To_Roadways', 'Hillshade_9am', 'Hillshade_Noon',\n",
      "       'Hillshade_3pm', 'Horizontal_Distance_To_Fire_Points',\n",
      "       'Wilderness_Area1', 'Wilderness_Area2', 'Wilderness_Area3',\n",
      "       'Wilderness_Area4', 'Soil_Type1', 'Soil_Type2', 'Soil_Type3',\n",
      "       'Soil_Type4', 'Soil_Type5', 'Soil_Type6', 'Soil_Type7', 'Soil_Type8',\n",
      "       'Soil_Type9', 'Soil_Type10', 'Soil_Type11', 'Soil_Type12',\n",
      "       'Soil_Type13', 'Soil_Type14', 'Soil_Type15', 'Soil_Type16',\n",
      "       'Soil_Type17', 'Soil_Type18', 'Soil_Type19', 'Soil_Type20',\n",
      "       'Soil_Type21', 'Soil_Type22', 'Soil_Type23', 'Soil_Type24',\n",
      "       'Soil_Type25', 'Soil_Type26', 'Soil_Type27', 'Soil_Type28',\n",
      "       'Soil_Type29', 'Soil_Type30', 'Soil_Type31', 'Soil_Type32',\n",
      "       'Soil_Type33', 'Soil_Type34', 'Soil_Type35', 'Soil_Type36',\n",
      "       'Soil_Type37', 'Soil_Type38', 'Soil_Type39', 'Soil_Type40'],\n",
      "      dtype='object')\n"
     ]
    }
   ],
   "source": [
    "train_dataset = pd.read_csv(\"sets/train.csv\") \n",
    "df = train_dataset.copy()\n",
    "test_dataset = pd.read_csv(\"sets/test.csv\") \n",
    "test_df = test_dataset.copy()\n",
    "\n",
    "pd.set_option('display.float_format', '{:.2f}'.format)\n",
    "warnings.filterwarnings(\"ignore\")\n",
    "\n",
    "print(df.columns)\n",
    "print(test_df.columns)\n",
    "\n",
    "continuous_features = ['Id', 'Elevation', 'Aspect', 'Slope', 'Horizontal_Distance_To_Hydrology', 'Vertical_Distance_To_Hydrology', 'Horizontal_Distance_To_Roadways', 'Horizontal_Distance_To_Fire_Points']\n",
    "categorial_features = df.drop(continuous_features, axis=1).columns"
   ]
  },
  {
   "cell_type": "markdown",
   "metadata": {},
   "source": [
    "# **Preprocessing & Modelisation**\n",
    "## **1. Data Preprocessing**\n",
    "- ### Feature Engineering : "
   ]
  },
  {
   "cell_type": "code",
   "execution_count": 172,
   "metadata": {},
   "outputs": [],
   "source": [
    "def feature_engineering(df):\n",
    "    #df[\"Soil_Types\"] = df[[col for col in categorial_features if 'Soil' in col]].idxmax(axis=1)\n",
    "    #df[\"Soil_Types\"] = df[\"Soil_Types\"].astype(\"category\").cat.codes\n",
    "\n",
    "    #df[\"Hypothenuse_Distance_To_Hydrology\"] = np.sqrt(df[\"Horizontal_Distance_To_Hydrology\"]**2 + df[\"Vertical_Distance_To_Hydrology\"]**2)\n",
    "    #df[\"Distance_To_Roadways\"] = np.sqrt(df[\"Elevation\"]**2 + df[\"Horizontal_Distance_To_Roadways\"]**2)\n",
    "    #df[\"Distance_To_Fire_Points\"] = np.sqrt(df[\"Elevation\"]**2 + df[\"Horizontal_Distance_To_Fire_Points\"]**2)\n",
    "\n",
    "    return df"
   ]
  },
  {
   "cell_type": "markdown",
   "metadata": {},
   "source": [
    "- ### Encodage : "
   ]
  },
  {
   "cell_type": "code",
   "execution_count": 173,
   "metadata": {},
   "outputs": [],
   "source": [
    "def encodage(df):\n",
    "    df = df.astype({col : \"int16\" for col in df.columns})\n",
    "    #df[continuous_features] = MinMaxScaler().fit_transform(df[continuous_features])\n",
    "\n",
    "    return df"
   ]
  },
  {
   "cell_type": "markdown",
   "metadata": {},
   "source": [
    "- ### Selection des variables : "
   ]
  },
  {
   "cell_type": "code",
   "execution_count": 174,
   "metadata": {},
   "outputs": [],
   "source": [
    "def features_selection(df):\n",
    "    return df"
   ]
  },
  {
   "cell_type": "markdown",
   "metadata": {},
   "source": [
    "- ### Imputation : "
   ]
  },
  {
   "cell_type": "code",
   "execution_count": 182,
   "metadata": {},
   "outputs": [],
   "source": [
    "def imputation(df):\n",
    "    #df = df.drop([col for col in categorial_features if \"Soil_Type\" in col], axis=1)\n",
    "    df = df.drop([\"Id\", \"Wilderness_Area1\", \"Soil_Type7\", \"Soil_Type15\"], axis=1)\n",
    "    \n",
    "    scaled_df = pd.DataFrame(MinMaxScaler().fit_transform(df), columns=df.columns, index=df.index)\n",
    "    outliers = scaled_df[scaled_df[\"Vertical_Distance_To_Hydrology\"] > 0.9]\n",
    "    df = df.drop(outliers.index)\n",
    "\n",
    "    return df"
   ]
  },
  {
   "cell_type": "markdown",
   "metadata": {},
   "source": [
    "- ### Transformation : \n",
    "    - Aspect : cbrt : 109\n",
    "    - Slope : sqrt : 18\n",
    "    - Horizontal_Distance_To_Hydrology : sqrt : 42\n",
    "    - Vertical_Distance_To_Hydrology : cbrt : 223\n",
    "    - Horizontal_Distance_To_Roadways : cbrt : 22\n",
    "    - Horizontal_Distance_To_Fire_Points : cbrt : 9"
   ]
  },
  {
   "cell_type": "code",
   "execution_count": null,
   "metadata": {},
   "outputs": [
    {
     "name": "stdout",
     "output_type": "stream",
     "text": [
      "['Id', 'Elevation', 'Aspect', 'Slope', 'Horizontal_Distance_To_Hydrology', 'Vertical_Distance_To_Hydrology', 'Horizontal_Distance_To_Roadways', 'Horizontal_Distance_To_Fire_Points']\n"
     ]
    }
   ],
   "source": [
    "print(continuous_features)\n",
    "def transformation(df):\n",
    "    print(\"transformation\")\n",
    "    for col in [\"Aspect\", \"Vertical_Distance_To_Hydrology\", \"Horizontal_Distance_To_Roadways\", \"Horizontal_Distance_To_Fire_Points\"]:\n",
    "        df[col] = np.cbrt(df[col])\n",
    "    for col in [\"Slope\", \"Vertical_Distance_To_Hydrology\"]:\n",
    "        df[col] = np.sqrt(df[col])\n",
    "\n",
    "    \"\"\"\n",
    "    col = \"Horizontal_Distance_To_Fire_Points\"\n",
    "    df[col] = np.cbrt(df[col])\n",
    "\n",
    "    anderson = stats.anderson(df[col], dist=\"norm\")\n",
    "    print(f\"{col} : \", anderson.statistic)\"\"\"\n",
    "\n",
    "    return df"
   ]
  },
  {
   "cell_type": "markdown",
   "metadata": {},
   "source": [
    "- ### Train-Test split : "
   ]
  },
  {
   "cell_type": "code",
   "execution_count": 177,
   "metadata": {},
   "outputs": [],
   "source": [
    "trainset, testset = train_test_split(df, test_size=0.2, random_state=0)"
   ]
  },
  {
   "cell_type": "markdown",
   "metadata": {},
   "source": [
    "- ### Preprocessing : "
   ]
  },
  {
   "cell_type": "code",
   "execution_count": 178,
   "metadata": {},
   "outputs": [
    {
     "name": "stdout",
     "output_type": "stream",
     "text": [
      "transformation\n",
      "transformation\n"
     ]
    }
   ],
   "source": [
    "def preprocessing(df):\n",
    "    df = feature_engineering(df)\n",
    "    df = encodage(df)\n",
    "    df = features_selection(df)\n",
    "    df = imputation(df)\n",
    "    df = transformation(df)\n",
    "\n",
    "    X = df.drop(\"Cover_Type\", axis=1)\n",
    "    y = df[\"Cover_Type\"]\n",
    "\n",
    "    return X, y\n",
    "\n",
    "X_train, y_train = preprocessing(trainset)\n",
    "X_test, y_test = preprocessing(testset)"
   ]
  },
  {
   "cell_type": "markdown",
   "metadata": {},
   "source": [
    "- ### Transformation Inversion : "
   ]
  },
  {
   "cell_type": "code",
   "execution_count": 179,
   "metadata": {},
   "outputs": [],
   "source": [
    "def transformation_inversion(y_test, y_pred):\n",
    "    \n",
    "\n",
    "    return y_test, y_pred"
   ]
  },
  {
   "cell_type": "markdown",
   "metadata": {},
   "source": [
    "## **2. Modelisation**\n",
    "- ### Model : "
   ]
  },
  {
   "cell_type": "code",
   "execution_count": 180,
   "metadata": {},
   "outputs": [],
   "source": [
    "model = RandomForestClassifier(random_state=0)"
   ]
  },
  {
   "cell_type": "markdown",
   "metadata": {},
   "source": [
    "- ### Metric : "
   ]
  },
  {
   "cell_type": "code",
   "execution_count": null,
   "metadata": {},
   "outputs": [],
   "source": []
  },
  {
   "cell_type": "markdown",
   "metadata": {},
   "source": [
    "- ### Evaluation : \n",
    "    - RandomForestClasssifier : Accuracy : 0.8457"
   ]
  },
  {
   "cell_type": "code",
   "execution_count": 181,
   "metadata": {},
   "outputs": [
    {
     "data": {
      "image/png": "[encoded data removed]",
      "text/plain": [
       "<Figure size 640x480 with 1 Axes>"
      ]
     },
     "metadata": {},
     "output_type": "display_data"
    },
    {
     "data": {
      "image/png": "[encoded data removed]",
      "text/plain": [
       "<Figure size 640x480 with 2 Axes>"
      ]
     },
     "metadata": {},
     "output_type": "display_data"
    }
   ],
   "source": [
    "def evaluation(model):\n",
    "    model.fit(X_train, y_train)\n",
    "    y_pred = model.predict(X_test)\n",
    "\n",
    "    y_test_inv, y_pred_inv = transformation_inversion(y_test, y_pred)\n",
    "\n",
    "    N, train_score, val_score = learning_curve(model, X_train, y_train, cv=4, scoring=\"accuracy\", train_sizes=np.linspace(0.1, 1.0, 10))\n",
    "\n",
    "    plt.figure()\n",
    "    plt.plot(N, train_score.mean(axis=1), label=\"Train Score\")\n",
    "    plt.plot(N, val_score.mean(axis=1), label=\"Validation Score\")\n",
    "    plt.title(f\"Accuracy Score : {accuracy_score(y_test_inv, y_pred_inv):.4f}\")\n",
    "    plt.legend()\n",
    "    \n",
    "\n",
    "    plt.figure()\n",
    "    cm = confusion_matrix(y_test_inv, y_pred_inv)\n",
    "    sns.heatmap(cm, annot=True, fmt=\"d\", cmap=\"Blues\")\n",
    "    plt.xlabel(\"Prediction\")\n",
    "    plt.ylabel(\"True Value\")\n",
    "    plt.title(\"Confusion Matrix\")\n",
    "\n",
    "evaluation(model)"
   ]
  },
  {
   "cell_type": "code",
   "execution_count": null,
   "metadata": {},
   "outputs": [],
   "source": []
  }
 ],
 "metadata": {
  "kernelspec": {
   "display_name": "base",
   "language": "python",
   "name": "python3"
  },
  "language_info": {
   "codemirror_mode": {
    "name": "ipython",
    "version": 3
   },
   "file_extension": ".py",
   "mimetype": "text/x-python",
   "name": "python",
   "nbconvert_exporter": "python",
   "pygments_lexer": "ipython3",
   "version": "3.12.7"
  }
 },
 "nbformat": 4,
 "nbformat_minor": 2
}
