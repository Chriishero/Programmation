{
 "cells": [
  {
   "cell_type": "code",
   "execution_count": 2,
   "metadata": {},
   "outputs": [],
   "source": [
    "import numpy as np \n",
    "import pandas as pd \n",
    "import matplotlib.pyplot as plt \n",
    "import seaborn as sns \n",
    "import statistics\n",
    "from sklearn.preprocessing import PowerTransformer, StandardScaler, MinMaxScaler\n",
    "from statsmodels.stats.outliers_influence import variance_inflation_factor\n",
    "from statsmodels.tools.tools import add_constant\n",
    "from statsmodels.multivariate import manova\n",
    "import scipy.stats as stats\n",
    "import missingno as msno\n",
    "from sklearn.ensemble import IsolationForest\n",
    "from sklearn.linear_model import Lasso\n",
    "\n",
    "# Mesure de l'hétéroscedasticité\n",
    "import statsmodels.api as sm\n",
    "import statsmodels.stats.api as sms\n",
    "\n",
    "import warnings\n",
    "\n",
    "dataset = pd.read_csv(\"sets/train.csv\")\n",
    "df = dataset.copy()\n",
    "\n",
    "pd.set_option(\"display.float_format\", \"{:.2f}\".format)\n",
    "warnings.filterwarnings(\"ignore\")"
   ]
  },
  {
   "cell_type": "markdown",
   "metadata": {
    "id": "1Mt7rgunQigw"
   },
   "source": [
    "# **Exploratory Data Analysis (EDA)**\n",
    "## **1. Checklist de base**\n",
    "## - Basic Exploration :\n",
    "- ### Variable target :\n",
    "  - Type : `df[target].dtypes` : int64 (multiclasse)\n",
    "  - Distribution des classes : 7 classes complétement équilibré\n",
    "  - Résumé statistique : `df[target].describe()` :\n",
    "    - count   15120.00\n",
    "    - mean        4.00\n",
    "    - std         2.00\n",
    "    - min         1.00\n",
    "    - 25%         2.00\n",
    "    - 50%         4.00\n",
    "    - 75%         6.00\n",
    "    - max         7.00\n"
   ]
  },
  {
   "cell_type": "code",
   "execution_count": 3,
   "metadata": {
    "id": "XLUkF3p9TmMq"
   },
   "outputs": [
    {
     "name": "stdout",
     "output_type": "stream",
     "text": [
      "   Id  Elevation  Aspect  Slope  Horizontal_Distance_To_Hydrology  \\\n",
      "0   1       2596      51      3                               258   \n",
      "1   2       2590      56      2                               212   \n",
      "\n",
      "   Vertical_Distance_To_Hydrology  Horizontal_Distance_To_Roadways  \\\n",
      "0                               0                              510   \n",
      "1                              -6                              390   \n",
      "\n",
      "   Hillshade_9am  Hillshade_Noon  Hillshade_3pm  ...  Soil_Type32  \\\n",
      "0            221             232            148  ...            0   \n",
      "1            220             235            151  ...            0   \n",
      "\n",
      "   Soil_Type33  Soil_Type34  Soil_Type35  Soil_Type36  Soil_Type37  \\\n",
      "0            0            0            0            0            0   \n",
      "1            0            0            0            0            0   \n",
      "\n",
      "   Soil_Type38  Soil_Type39  Soil_Type40  Cover_Type  \n",
      "0            0            0            0           5  \n",
      "1            0            0            0           5  \n",
      "\n",
      "[2 rows x 56 columns]\n"
     ]
    }
   ],
   "source": [
    "print(df.head(2))"
   ]
  },
  {
   "cell_type": "code",
   "execution_count": 4,
   "metadata": {},
   "outputs": [
    {
     "name": "stdout",
     "output_type": "stream",
     "text": [
      "Cover_Type\n",
      "5    2160\n",
      "2    2160\n",
      "1    2160\n",
      "7    2160\n",
      "3    2160\n",
      "6    2160\n",
      "4    2160\n",
      "Name: count, dtype: int64\n"
     ]
    }
   ],
   "source": [
    "print(df[\"Cover_Type\"].value_counts())"
   ]
  },
  {
   "cell_type": "code",
   "execution_count": 5,
   "metadata": {},
   "outputs": [
    {
     "name": "stdout",
     "output_type": "stream",
     "text": [
      "count   15120.00\n",
      "mean        4.00\n",
      "std         2.00\n",
      "min         1.00\n",
      "25%         2.00\n",
      "50%         4.00\n",
      "75%         6.00\n",
      "max         7.00\n",
      "Name: Cover_Type, dtype: float64\n"
     ]
    }
   ],
   "source": [
    "print(df[\"Cover_Type\"].describe())"
   ]
  },
  {
   "cell_type": "markdown",
   "metadata": {
    "id": "N7nYjR4bQigx"
   },
   "source": [
    "- ### Lignes et colonnes :\n",
    "  - Nombre de lignes et de colonnes : `df.shape` : (15120, 56)\n",
    "  - Données uniques / redondantes : `df.columns.duplicated()` : aucune duplication\n"
   ]
  },
  {
   "cell_type": "code",
   "execution_count": 6,
   "metadata": {
    "id": "qCATwk_kTha-"
   },
   "outputs": [
    {
     "name": "stdout",
     "output_type": "stream",
     "text": [
      "(15120, 56)\n",
      "[False False False False False False False False False False False False\n",
      " False False False False False False False False False False False False\n",
      " False False False False False False False False False False False False\n",
      " False False False False False False False False False False False False\n",
      " False False False False False False False False]\n"
     ]
    }
   ],
   "source": [
    "print(df.shape)\n",
    "print(df.columns.duplicated())"
   ]
  },
  {
   "cell_type": "markdown",
   "metadata": {
    "id": "Ntm0u-TtTkdM"
   },
   "source": [
    "- ### Types de variables :\n",
    "  - Catégorielles : 45\n",
    "  - Continues : 9\n",
    "  - Dates / Temps : 0"
   ]
  },
  {
   "cell_type": "code",
   "execution_count": 7,
   "metadata": {
    "id": "Kq9vh4vpTqmN"
   },
   "outputs": [
    {
     "name": "stdout",
     "output_type": "stream",
     "text": [
      "Index(['Id', 'Elevation', 'Aspect', 'Slope',\n",
      "       'Horizontal_Distance_To_Hydrology', 'Vertical_Distance_To_Hydrology',\n",
      "       'Horizontal_Distance_To_Roadways', 'Hillshade_9am', 'Hillshade_Noon',\n",
      "       'Hillshade_3pm', 'Horizontal_Distance_To_Fire_Points',\n",
      "       'Wilderness_Area1', 'Wilderness_Area2', 'Wilderness_Area3',\n",
      "       'Wilderness_Area4', 'Soil_Type1', 'Soil_Type2', 'Soil_Type3',\n",
      "       'Soil_Type4', 'Soil_Type5', 'Soil_Type6', 'Soil_Type7', 'Soil_Type8',\n",
      "       'Soil_Type9', 'Soil_Type10', 'Soil_Type11', 'Soil_Type12',\n",
      "       'Soil_Type13', 'Soil_Type14', 'Soil_Type15', 'Soil_Type16',\n",
      "       'Soil_Type17', 'Soil_Type18', 'Soil_Type19', 'Soil_Type20',\n",
      "       'Soil_Type21', 'Soil_Type22', 'Soil_Type23', 'Soil_Type24',\n",
      "       'Soil_Type25', 'Soil_Type26', 'Soil_Type27', 'Soil_Type28',\n",
      "       'Soil_Type29', 'Soil_Type30', 'Soil_Type31', 'Soil_Type32',\n",
      "       'Soil_Type33', 'Soil_Type34', 'Soil_Type35', 'Soil_Type36',\n",
      "       'Soil_Type37', 'Soil_Type38', 'Soil_Type39', 'Soil_Type40',\n",
      "       'Cover_Type'],\n",
      "      dtype='object')\n",
      "0    148\n",
      "1    151\n",
      "2    135\n",
      "3    122\n",
      "4    150\n",
      "Name: Hillshade_3pm, dtype: int64\n"
     ]
    }
   ],
   "source": [
    "print(df.columns)\n",
    "print(df[\"Hillshade_3pm\"].head())"
   ]
  },
  {
   "cell_type": "markdown",
   "metadata": {
    "id": "EqcyRu5NTq_h"
   },
   "source": [
    "- ### Analyse de valeurs manquantes (heatmap) :\n",
    "  - Proportions par colonnes : 0\n",
    "  - Méthodes de gestion :     \n",
    "    - Supression :     \n",
    "    - Imputation :    \n"
   ]
  },
  {
   "cell_type": "code",
   "execution_count": 8,
   "metadata": {
    "id": "8pXAzsk7kqAe"
   },
   "outputs": [
    {
     "name": "stdout",
     "output_type": "stream",
     "text": [
      "Id                                   0.00\n",
      "Elevation                            0.00\n",
      "Aspect                               0.00\n",
      "Slope                                0.00\n",
      "Horizontal_Distance_To_Hydrology     0.00\n",
      "Vertical_Distance_To_Hydrology       0.00\n",
      "Horizontal_Distance_To_Roadways      0.00\n",
      "Hillshade_9am                        0.00\n",
      "Hillshade_Noon                       0.00\n",
      "Hillshade_3pm                        0.00\n",
      "Horizontal_Distance_To_Fire_Points   0.00\n",
      "Wilderness_Area1                     0.00\n",
      "Wilderness_Area2                     0.00\n",
      "Wilderness_Area3                     0.00\n",
      "Wilderness_Area4                     0.00\n",
      "Soil_Type1                           0.00\n",
      "Soil_Type2                           0.00\n",
      "Soil_Type3                           0.00\n",
      "Soil_Type4                           0.00\n",
      "Soil_Type5                           0.00\n",
      "Soil_Type6                           0.00\n",
      "Soil_Type7                           0.00\n",
      "Soil_Type8                           0.00\n",
      "Soil_Type9                           0.00\n",
      "Soil_Type10                          0.00\n",
      "Soil_Type11                          0.00\n",
      "Soil_Type12                          0.00\n",
      "Soil_Type13                          0.00\n",
      "Soil_Type14                          0.00\n",
      "Soil_Type15                          0.00\n",
      "Soil_Type16                          0.00\n",
      "Soil_Type17                          0.00\n",
      "Soil_Type18                          0.00\n",
      "Soil_Type19                          0.00\n",
      "Soil_Type20                          0.00\n",
      "Soil_Type21                          0.00\n",
      "Soil_Type22                          0.00\n",
      "Soil_Type23                          0.00\n",
      "Soil_Type24                          0.00\n",
      "Soil_Type25                          0.00\n",
      "Soil_Type26                          0.00\n",
      "Soil_Type27                          0.00\n",
      "Soil_Type28                          0.00\n",
      "Soil_Type29                          0.00\n",
      "Soil_Type30                          0.00\n",
      "Soil_Type31                          0.00\n",
      "Soil_Type32                          0.00\n",
      "Soil_Type33                          0.00\n",
      "Soil_Type34                          0.00\n",
      "Soil_Type35                          0.00\n",
      "Soil_Type36                          0.00\n",
      "Soil_Type37                          0.00\n",
      "Soil_Type38                          0.00\n",
      "Soil_Type39                          0.00\n",
      "Soil_Type40                          0.00\n",
      "Cover_Type                           0.00\n",
      "dtype: float64\n"
     ]
    },
    {
     "data": {
      "image/png": "[encoded data removed]",
      "text/plain": [
       "<Figure size 2500x1000 with 2 Axes>"
      ]
     },
     "metadata": {},
     "output_type": "display_data"
    }
   ],
   "source": [
    "msno.matrix(df)\n",
    "nan_value = df.isna().sum()/df.shape[0]\n",
    "print(nan_value)"
   ]
  },
  {
   "cell_type": "markdown",
   "metadata": {
    "id": "jIyCpmawkdvE"
   },
   "source": [
    "- ### Analyse des outliers (IQR, Z-score, boxplot) :\n",
    "  - Proportions par colonnes (IQR) :\n",
    "    - Slope : 39 : 0.0025793650793650793\n",
    "    - Horizontal_Distance_To_Hydrology : 285 : 0.018849206349206348\n",
    "    - Vertical_Distance_To_Hydrology : 213 : 0.014087301587301588\n",
    "    - Horizontal_Distance_To_Roadways : 155 : 0.0102513227513227\n",
    "  - Observations : \n",
    "    - l'isolation forest ne détecte aucun outliers\n",
    "    - environ 500 outliers avec le Z-score, cohérent avec l'IQR et le boxplot\n",
    "  - Méthodes de gestion :\n",
    "    - Supression : outliers extrème de 'Horizontal_Distance_To_Hydrology'\n",
    "    - Imputation : possible imputation des légers outliers de 'Horizontal_Distance_To_Hydrology'\n"
   ]
  },
  {
   "cell_type": "code",
   "execution_count": null,
   "metadata": {
    "id": "mnXFGlk1UzND"
   },
   "outputs": [],
   "source": [
    "continuous_features = [\"Elevation\", \"Aspect\", \"Slope\", \"Horizontal_Distance_To_Hydrology\", \"Vertical_Distance_To_Hydrology\", \n",
    "                       \"Horizontal_Distance_To_Roadways\", \"Horizontal_Distance_To_Roadways\", \"Horizontal_Distance_To_Fire_Points\"]\n",
    "categorial_features = df.drop(continuous_features, axis=1).columns\n",
    "scaled_df = pd.DataFrame(MinMaxScaler().fit_transform(df[continuous_features]), columns=continuous_features)\n",
    "sns.boxplot(scaled_df[continuous_features])\n",
    "plt.xticks(rotation=45)"
   ]
  },
  {
   "cell_type": "code",
   "execution_count": null,
   "metadata": {},
   "outputs": [
    {
     "name": "stdout",
     "output_type": "stream",
     "text": [
      "Elevation : 0 : 0.0\n",
      "Aspect : 0 : 0.0\n",
      "Slope : 39 : 0.0025793650793650793\n",
      "Horizontal_Distance_To_Hydrology : 285 : 0.018849206349206348\n",
      "Vertical_Distance_To_Hydrology : 213 : 0.014087301587301588\n",
      "Horizontal_Distance_To_Roadways : 155 : 0.01025132275132275\n",
      "Horizontal_Distance_To_Roadways : 155 : 0.01025132275132275\n",
      "Horizontal_Distance_To_Fire_Points : 331 : 0.021891534391534392\n",
      "Nombres d'outliers : 1178 : 0.07791005291005292\n"
     ]
    }
   ],
   "source": [
    "def outlier_detection(df):\n",
    "    anomalies = []\n",
    "\n",
    "    # limite supérieur et inféfieur à 3 écarts-types\n",
    "    data_std = statistics.stdev(df)\n",
    "    data_mean = statistics.mean(df)\n",
    "    anomaly_cut_off = data_std * 3\n",
    "\n",
    "    lower_limit = data_mean - anomaly_cut_off\n",
    "    upper_limit = data_mean + anomaly_cut_off\n",
    "\n",
    "    for outlier in df:\n",
    "        if outlier < lower_limit or outlier > upper_limit:\n",
    "            anomalies.append(outlier)\n",
    "    return anomalies\n",
    "\n",
    "n_outliers = 0\n",
    "for col in continuous_features:\n",
    "    outliers = outlier_detection(df[col])\n",
    "    print(f\"{col} : {len(outliers)} : {len(outliers)/df.shape[0]}\")\n",
    "    n_outliers += len(outliers)\n",
    "\n",
    "print(f\"Nombres d'outliers : {n_outliers} : {n_outliers/df.shape[0]}\")"
   ]
  },
  {
   "cell_type": "code",
   "execution_count": null,
   "metadata": {},
   "outputs": [
    {
     "data": {
      "text/plain": [
       "<matplotlib.legend.Legend at 0x1c0d792f590>"
      ]
     },
     "execution_count": 10,
     "metadata": {},
     "output_type": "execute_result"
    },
    {
     "data": {
      "image/png": "[encoded data removed]",
      "text/plain": [
       "<Figure size 640x480 with 1 Axes>"
      ]
     },
     "metadata": {},
     "output_type": "display_data"
    }
   ],
   "source": [
    "model = IsolationForest(random_state=0, contamination='auto')\n",
    "model.fit(scaled_df)\n",
    "outliers_predict = model.predict(scaled_df) == -1\n",
    "anomaly_score = model.decision_function(scaled_df)\n",
    "\n",
    "plt.hist(anomaly_score, bins=50)\n",
    "plt.axvline(x=-0.5, color='red', linestyle='--', label=\"Seuil : -0.5\")\n",
    "plt.title(\"Distribution des scores d'anomalies\")\n",
    "plt.xlabel(\"Score d'anomalie\")\n",
    "plt.ylabel(\"Nombre d'anomalie\")\n",
    "plt.legend()"
   ]
  },
  {
   "cell_type": "code",
   "execution_count": null,
   "metadata": {},
   "outputs": [
    {
     "name": "stdout",
     "output_type": "stream",
     "text": [
      "Nombre d'outliers (Z-score > 3) :  884\n"
     ]
    }
   ],
   "source": [
    "z_score = stats.zscore(scaled_df)\n",
    "outliers = df[(np.abs(z_score) > 3).any(axis=1)]\n",
    "print(\"Nombre d'outliers (Z-score > 3) : \", len(outliers))"
   ]
  },
  {
   "cell_type": "markdown",
   "metadata": {
    "id": "XDHvGkVgVKfo"
   },
   "source": [
    "\n",
    "\n",
    "---\n",
    "\n",
    "\n",
    "## - Data Cleaning :    \n",
    "- ### Renommer les colonnes : `df.rename(function, axis=1, inplace=true)` : `col.replace(a, b)` :  "
   ]
  },
  {
   "cell_type": "code",
   "execution_count": null,
   "metadata": {
    "id": "M-89Hkn_WTNo"
   },
   "outputs": [],
   "source": []
  },
  {
   "cell_type": "markdown",
   "metadata": {
    "id": "PEoGoNc7WVIJ"
   },
   "source": [
    "- ### Supprimer les colonnes inutiles :    "
   ]
  },
  {
   "cell_type": "code",
   "execution_count": null,
   "metadata": {
    "id": "zoIUkX6FWbvZ"
   },
   "outputs": [
    {
     "name": "stdout",
     "output_type": "stream",
     "text": [
      "Index(['Id', 'Elevation', 'Aspect', 'Slope',\n",
      "       'Horizontal_Distance_To_Hydrology', 'Vertical_Distance_To_Hydrology',\n",
      "       'Horizontal_Distance_To_Roadways', 'Hillshade_9am', 'Hillshade_Noon',\n",
      "       'Hillshade_3pm', 'Horizontal_Distance_To_Fire_Points',\n",
      "       'Wilderness_Area1', 'Wilderness_Area2', 'Wilderness_Area3',\n",
      "       'Wilderness_Area4', 'Soil_Type1', 'Soil_Type2', 'Soil_Type3',\n",
      "       'Soil_Type4', 'Soil_Type5', 'Soil_Type6', 'Soil_Type7', 'Soil_Type8',\n",
      "       'Soil_Type9', 'Soil_Type10', 'Soil_Type11', 'Soil_Type12',\n",
      "       'Soil_Type13', 'Soil_Type14', 'Soil_Type15', 'Soil_Type16',\n",
      "       'Soil_Type17', 'Soil_Type18', 'Soil_Type19', 'Soil_Type20',\n",
      "       'Soil_Type21', 'Soil_Type22', 'Soil_Type23', 'Soil_Type24',\n",
      "       'Soil_Type25', 'Soil_Type26', 'Soil_Type27', 'Soil_Type28',\n",
      "       'Soil_Type29', 'Soil_Type30', 'Soil_Type31', 'Soil_Type32',\n",
      "       'Soil_Type33', 'Soil_Type34', 'Soil_Type35', 'Soil_Type36',\n",
      "       'Soil_Type37', 'Soil_Type38', 'Soil_Type39', 'Soil_Type40',\n",
      "       'Cover_Type'],\n",
      "      dtype='object')\n"
     ]
    }
   ],
   "source": [
    "print(df.columns)\n",
    "df = df.drop(\"Id\", axis=1)"
   ]
  },
  {
   "cell_type": "markdown",
   "metadata": {
    "id": "H9eZbF8RWfCs"
   },
   "source": [
    "- ### Fusionner les colonnes redondantes :    "
   ]
  },
  {
   "cell_type": "code",
   "execution_count": null,
   "metadata": {
    "id": "Ud9ScJ-_WmXR"
   },
   "outputs": [],
   "source": []
  },
  {
   "cell_type": "markdown",
   "metadata": {
    "id": "0n6q0CG5WqvW"
   },
   "source": [
    "- ### Convertir les types des colonnes :   "
   ]
  },
  {
   "cell_type": "code",
   "execution_count": null,
   "metadata": {
    "id": "8HWMei_FWuGA"
   },
   "outputs": [
    {
     "name": "stdout",
     "output_type": "stream",
     "text": [
      "Index                                   132\n",
      "Elevation                             30240\n",
      "Aspect                                30240\n",
      "Slope                                 30240\n",
      "Horizontal_Distance_To_Hydrology      30240\n",
      "Vertical_Distance_To_Hydrology        30240\n",
      "Horizontal_Distance_To_Roadways       30240\n",
      "Hillshade_9am                         30240\n",
      "Hillshade_Noon                        30240\n",
      "Hillshade_3pm                         30240\n",
      "Horizontal_Distance_To_Fire_Points    30240\n",
      "Wilderness_Area1                      30240\n",
      "Wilderness_Area2                      30240\n",
      "Wilderness_Area3                      30240\n",
      "Wilderness_Area4                      30240\n",
      "Soil_Type1                            30240\n",
      "Soil_Type2                            30240\n",
      "Soil_Type3                            30240\n",
      "Soil_Type4                            30240\n",
      "Soil_Type5                            30240\n",
      "Soil_Type6                            30240\n",
      "Soil_Type7                            30240\n",
      "Soil_Type8                            30240\n",
      "Soil_Type9                            30240\n",
      "Soil_Type10                           30240\n",
      "Soil_Type11                           30240\n",
      "Soil_Type12                           30240\n",
      "Soil_Type13                           30240\n",
      "Soil_Type14                           30240\n",
      "Soil_Type15                           30240\n",
      "Soil_Type16                           30240\n",
      "Soil_Type17                           30240\n",
      "Soil_Type18                           30240\n",
      "Soil_Type19                           30240\n",
      "Soil_Type20                           30240\n",
      "Soil_Type21                           30240\n",
      "Soil_Type22                           30240\n",
      "Soil_Type23                           30240\n",
      "Soil_Type24                           30240\n",
      "Soil_Type25                           30240\n",
      "Soil_Type26                           30240\n",
      "Soil_Type27                           30240\n",
      "Soil_Type28                           30240\n",
      "Soil_Type29                           30240\n",
      "Soil_Type30                           30240\n",
      "Soil_Type31                           30240\n",
      "Soil_Type32                           30240\n",
      "Soil_Type33                           30240\n",
      "Soil_Type34                           30240\n",
      "Soil_Type35                           30240\n",
      "Soil_Type36                           30240\n",
      "Soil_Type37                           30240\n",
      "Soil_Type38                           30240\n",
      "Soil_Type39                           30240\n",
      "Soil_Type40                           30240\n",
      "Cover_Type                            30240\n",
      "dtype: int64\n"
     ]
    }
   ],
   "source": [
    "df = df.astype({col : \"int16\" for col in df.columns})\n",
    "print(df.memory_usage())"
   ]
  },
  {
   "cell_type": "markdown",
   "metadata": {
    "id": "yhgNxgNdWw69"
   },
   "source": [
    "- ### Gérer les valeurs manquantes :"
   ]
  },
  {
   "cell_type": "code",
   "execution_count": null,
   "metadata": {
    "id": "M35MAzAdWykc"
   },
   "outputs": [],
   "source": []
  },
  {
   "cell_type": "markdown",
   "metadata": {
    "id": "_8axguRdkWLZ"
   },
   "source": [
    "- ### Gérer les outliers :"
   ]
  },
  {
   "cell_type": "code",
   "execution_count": null,
   "metadata": {
    "id": "kP-69pUHkarZ"
   },
   "outputs": [
    {
     "name": "stdout",
     "output_type": "stream",
     "text": [
      "Index([1803, 1892, 11938], dtype='int64')\n"
     ]
    }
   ],
   "source": [
    "outliers = scaled_df[scaled_df[\"Vertical_Distance_To_Hydrology\"] > 0.9]\n",
    "print(outliers.index)\n",
    "df = df.drop(outliers.index)"
   ]
  },
  {
   "cell_type": "markdown",
   "metadata": {
    "id": "X0lKGlHPW6yp"
   },
   "source": [
    "\n",
    "\n",
    "---\n",
    "\n",
    "\n",
    "## **2. Exploration Uni-variable**\n",
    "- ### Variables Continues :\n",
    "  - Skewness (>0.5 ou <-0.5) : `(décalé)` :  \n",
    "    - Horizontal_Distance_To_Hydrology   1.49\n",
    "    - Vertical_Distance_To_Hydrology     1.46\n",
    "    - Horizontal_Distance_To_Roadways    1.25\n",
    "    - Horizontal_Distance_To_Roadways    1.25\n",
    "    - Slope                              0.52\n",
    "  - Kurtosis (>5 ou ou <1) : `(forme applatie/pointue)` :\n",
    "    - Slope                              -0.24\n",
    "    - Elevation                          -1.08\n",
    "    - Aspect                             -1.15\n",
    "  - Variance (cv>1.5 ou <0.1):\n",
    "    - Elevation                          0.15\n",
    "  - Normalité (p-value < 0.05) :\n",
    "    - toutes les variables suivent une distributions anormales\n",
    "  - Homoscedasticité (Breusch-Pagan >0.05):\n",
    "    - target catégorielle\n",
    "  - Observations : \n",
    "    - les 'Distance_To_Hydrology' ont une grande proportion de valeurs = 0\n",
    "    - les 'Distance' possèdent certains outliers au delà de la moustache supérieur (Q3 + 1.5 * IQR)\n",
    "    - classification impossible avec MNLogit, multicolinéarité ?\n",
    "    - transformations mathématique et encodage nécessaire pour les problèmes de skewness et kurtosis"
   ]
  },
  {
   "cell_type": "code",
   "execution_count": null,
   "metadata": {
    "id": "fTnIJmzsZroh"
   },
   "outputs": [
    {
     "name": "stdout",
     "output_type": "stream",
     "text": [
      "['Elevation', 'Aspect', 'Slope', 'Horizontal_Distance_To_Hydrology', 'Vertical_Distance_To_Hydrology', 'Horizontal_Distance_To_Roadways', 'Horizontal_Distance_To_Roadways', 'Horizontal_Distance_To_Fire_Points']\n"
     ]
    }
   ],
   "source": [
    "print(continuous_features)"
   ]
  },
  {
   "cell_type": "markdown",
   "metadata": {},
   "source": [
    "- Statistiques de base (skew, kurt, var, std, range) : "
   ]
  },
  {
   "cell_type": "code",
   "execution_count": null,
   "metadata": {},
   "outputs": [
    {
     "name": "stdout",
     "output_type": "stream",
     "text": [
      "kurtosis :  Horizontal_Distance_To_Fire_Points    3.39\n",
      "Horizontal_Distance_To_Hydrology      2.81\n",
      "Vertical_Distance_To_Hydrology        2.69\n",
      "Horizontal_Distance_To_Roadways       1.02\n",
      "Horizontal_Distance_To_Roadways       1.02\n",
      "Slope                                -0.24\n",
      "Elevation                            -1.08\n",
      "Aspect                               -1.15\n",
      "dtype: float64\n",
      "variance :  Aspect                               0.70\n",
      "Elevation                            0.15\n",
      "Horizontal_Distance_To_Fire_Points   0.73\n",
      "Horizontal_Distance_To_Hydrology     0.92\n",
      "Horizontal_Distance_To_Roadways      0.77\n",
      "Horizontal_Distance_To_Roadways      0.77\n",
      "Horizontal_Distance_To_Roadways      0.77\n",
      "Horizontal_Distance_To_Roadways      0.77\n",
      "Slope                                0.51\n",
      "Vertical_Distance_To_Hydrology       1.19\n",
      "dtype: float64\n",
      "standard_deviation :  Horizontal_Distance_To_Roadways      1325.14\n",
      "Horizontal_Distance_To_Roadways      1325.14\n",
      "Horizontal_Distance_To_Fire_Points   1099.96\n",
      "Elevation                             417.71\n",
      "Horizontal_Distance_To_Hydrology      209.94\n",
      "Aspect                                110.08\n",
      "Vertical_Distance_To_Hydrology         60.84\n",
      "Slope                                   8.45\n",
      "dtype: float64\n"
     ]
    }
   ],
   "source": [
    "skewness = df[continuous_features].skew().sort_values(ascending=False)\n",
    "kurtosis = df[continuous_features].kurt().sort_values(ascending=False)\n",
    "standard_deviation = df[continuous_features].std().sort_values(ascending=False)\n",
    "variance_coefficient = standard_deviation / df[continuous_features].mean().sort_values(ascending=False)\n",
    "print(\"kurtosis : \", kurtosis)\n",
    "print(\"variance : \", variance_coefficient)\n",
    "print(\"standard_deviation : \", standard_deviation)"
   ]
  },
  {
   "cell_type": "markdown",
   "metadata": {},
   "source": [
    "- Forme de la distribution (Histogramme, Boxplot, Scatterplot) : "
   ]
  },
  {
   "cell_type": "code",
   "execution_count": null,
   "metadata": {},
   "outputs": [
    {
     "data": {
      "image/png": "[encoded data removed]",
      "text/plain": [
       "<Figure size 640x480 with 1 Axes>"
      ]
     },
     "metadata": {},
     "output_type": "display_data"
    },
    {
     "data": {
      "image/png": "[encoded data removed]",
      "text/plain": [
       "<Figure size 640x480 with 1 Axes>"
      ]
     },
     "metadata": {},
     "output_type": "display_data"
    },
    {
     "data": {
      "image/png": "[encoded data removed]",
      "text/plain": [
       "<Figure size 640x480 with 1 Axes>"
      ]
     },
     "metadata": {},
     "output_type": "display_data"
    },
    {
     "data": {
      "image/png": "[encoded data removed]",
      "text/plain": [
       "<Figure size 640x480 with 1 Axes>"
      ]
     },
     "metadata": {},
     "output_type": "display_data"
    },
    {
     "data": {
      "image/png": "[encoded data removed]",
      "text/plain": [
       "<Figure size 640x480 with 1 Axes>"
      ]
     },
     "metadata": {},
     "output_type": "display_data"
    },
    {
     "data": {
      "image/png": "[encoded data removed]",
      "text/plain": [
       "<Figure size 640x480 with 1 Axes>"
      ]
     },
     "metadata": {},
     "output_type": "display_data"
    },
    {
     "data": {
      "image/png": "[encoded data removed]",
      "text/plain": [
       "<Figure size 640x480 with 1 Axes>"
      ]
     },
     "metadata": {},
     "output_type": "display_data"
    },
    {
     "data": {
      "image/png": "[encoded data removed]",
      "text/plain": [
       "<Figure size 640x480 with 1 Axes>"
      ]
     },
     "metadata": {},
     "output_type": "display_data"
    }
   ],
   "source": [
    "for col in continuous_features:\n",
    "    plt.figure()\n",
    "    sns.boxplot(df[col])"
   ]
  },
  {
   "cell_type": "code",
   "execution_count": null,
   "metadata": {},
   "outputs": [
    {
     "name": "stdout",
     "output_type": "stream",
     "text": [
      "686\n"
     ]
    }
   ],
   "source": [
    "print(df[df[\"Horizontal_Distance_To_Hydrology\"] > 650].shape[0])"
   ]
  },
  {
   "cell_type": "markdown",
   "metadata": {},
   "source": [
    "- Normalité (QQPlot, Shapiro-Wilk, Kolmogorov-Smirnov, Lilliefors) : "
   ]
  },
  {
   "cell_type": "code",
   "execution_count": null,
   "metadata": {},
   "outputs": [
    {
     "name": "stdout",
     "output_type": "stream",
     "text": [
      "p_value : 5.352454591351093e-50\n",
      "p_value : 5.009512004627111e-68\n",
      "p_value : 1.5153756174700023e-46\n",
      "p_value : 4.729465821803842e-76\n",
      "p_value : 8.959948007554246e-77\n",
      "p_value : 1.2871075028045188e-74\n",
      "p_value : 1.2871075028045188e-74\n",
      "p_value : 1.5674878716515788e-76\n"
     ]
    }
   ],
   "source": [
    "for col in continuous_features:\n",
    "    #plt.figure()\n",
    "    #stats.probplot(df[col], dist='norm', plot=plt)\n",
    "    stat, p_value = stats.shapiro(df[col])\n",
    "    print(f\"p_value : {p_value}\")"
   ]
  },
  {
   "cell_type": "markdown",
   "metadata": {},
   "source": [
    "- Homoscedasticité (Breusch-Pagan, probplot) : "
   ]
  },
  {
   "cell_type": "code",
   "execution_count": null,
   "metadata": {},
   "outputs": [],
   "source": []
  },
  {
   "cell_type": "markdown",
   "metadata": {
    "id": "6CvRZJB3ZsTF"
   },
   "source": [
    "- ### Variables Catégorielles :\n",
    "  - Multiclasse :\n",
    "  - Binaire :\n",
    "  - Catégories dominantes :\n",
    "  - Observations : \n",
    "    - 'Soil_Type7' et 15 n'ont qu'une seule classe : inutile"
   ]
  },
  {
   "cell_type": "code",
   "execution_count": null,
   "metadata": {
    "id": "FhNXreygZuME"
   },
   "outputs": [
    {
     "name": "stdout",
     "output_type": "stream",
     "text": [
      "Index(['Hillshade_9am', 'Hillshade_Noon', 'Hillshade_3pm', 'Wilderness_Area1',\n",
      "       'Wilderness_Area2', 'Wilderness_Area3', 'Wilderness_Area4',\n",
      "       'Soil_Type1', 'Soil_Type2', 'Soil_Type3', 'Soil_Type4', 'Soil_Type5',\n",
      "       'Soil_Type6', 'Soil_Type7', 'Soil_Type8', 'Soil_Type9', 'Soil_Type10',\n",
      "       'Soil_Type11', 'Soil_Type12', 'Soil_Type13', 'Soil_Type14',\n",
      "       'Soil_Type15', 'Soil_Type16', 'Soil_Type17', 'Soil_Type18',\n",
      "       'Soil_Type19', 'Soil_Type20', 'Soil_Type21', 'Soil_Type22',\n",
      "       'Soil_Type23', 'Soil_Type24', 'Soil_Type25', 'Soil_Type26',\n",
      "       'Soil_Type27', 'Soil_Type28', 'Soil_Type29', 'Soil_Type30',\n",
      "       'Soil_Type31', 'Soil_Type32', 'Soil_Type33', 'Soil_Type34',\n",
      "       'Soil_Type35', 'Soil_Type36', 'Soil_Type37', 'Soil_Type38',\n",
      "       'Soil_Type39', 'Soil_Type40', 'Cover_Type'],\n",
      "      dtype='object')\n"
     ]
    }
   ],
   "source": [
    "categorial_features = df.drop(continuous_features, axis=1).columns\n",
    "print(categorial_features)"
   ]
  },
  {
   "cell_type": "markdown",
   "metadata": {},
   "source": [
    "- Statistiques descriptives (fréquence, mode): "
   ]
  },
  {
   "cell_type": "code",
   "execution_count": null,
   "metadata": {},
   "outputs": [
    {
     "name": "stdout",
     "output_type": "stream",
     "text": [
      "Hillshade_9am       176\n",
      "Hillshade_Noon      141\n",
      "Hillshade_3pm       247\n",
      "Wilderness_Area1      2\n",
      "Wilderness_Area2      2\n",
      "Wilderness_Area3      2\n",
      "Wilderness_Area4      2\n",
      "Soil_Type1            2\n",
      "Soil_Type2            2\n",
      "Soil_Type3            2\n",
      "Soil_Type4            2\n",
      "Soil_Type5            2\n",
      "Soil_Type6            2\n",
      "Soil_Type7            1\n",
      "Soil_Type8            2\n",
      "Soil_Type9            2\n",
      "Soil_Type10           2\n",
      "Soil_Type11           2\n",
      "Soil_Type12           2\n",
      "Soil_Type13           2\n",
      "Soil_Type14           2\n",
      "Soil_Type15           1\n",
      "Soil_Type16           2\n",
      "Soil_Type17           2\n",
      "Soil_Type18           2\n",
      "Soil_Type19           2\n",
      "Soil_Type20           2\n",
      "Soil_Type21           2\n",
      "Soil_Type22           2\n",
      "Soil_Type23           2\n",
      "Soil_Type24           2\n",
      "Soil_Type25           2\n",
      "Soil_Type26           2\n",
      "Soil_Type27           2\n",
      "Soil_Type28           2\n",
      "Soil_Type29           2\n",
      "Soil_Type30           2\n",
      "Soil_Type31           2\n",
      "Soil_Type32           2\n",
      "Soil_Type33           2\n",
      "Soil_Type34           2\n",
      "Soil_Type35           2\n",
      "Soil_Type36           2\n",
      "Soil_Type37           2\n",
      "Soil_Type38           2\n",
      "Soil_Type39           2\n",
      "Soil_Type40           2\n",
      "Cover_Type            7\n",
      "dtype: int64\n"
     ]
    }
   ],
   "source": [
    "print(df[categorial_features].nunique())"
   ]
  },
  {
   "cell_type": "code",
   "execution_count": null,
   "metadata": {},
   "outputs": [],
   "source": [
    "categorial_features = categorial_features.drop([\"Soil_Type7\", \"Soil_Type15\"])"
   ]
  },
  {
   "cell_type": "code",
   "execution_count": null,
   "metadata": {},
   "outputs": [
    {
     "name": "stdout",
     "output_type": "stream",
     "text": [
      "Index(['Hillshade_9am', 'Hillshade_Noon', 'Hillshade_3pm', 'Wilderness_Area1',\n",
      "       'Wilderness_Area2', 'Wilderness_Area3', 'Wilderness_Area4',\n",
      "       'Soil_Type1', 'Soil_Type2', 'Soil_Type3', 'Soil_Type4', 'Soil_Type5',\n",
      "       'Soil_Type6', 'Soil_Type8', 'Soil_Type9', 'Soil_Type10', 'Soil_Type11',\n",
      "       'Soil_Type12', 'Soil_Type13', 'Soil_Type14', 'Soil_Type16',\n",
      "       'Soil_Type17', 'Soil_Type18', 'Soil_Type19', 'Soil_Type20',\n",
      "       'Soil_Type21', 'Soil_Type22', 'Soil_Type23', 'Soil_Type24',\n",
      "       'Soil_Type25', 'Soil_Type26', 'Soil_Type27', 'Soil_Type28',\n",
      "       'Soil_Type29', 'Soil_Type30', 'Soil_Type31', 'Soil_Type32',\n",
      "       'Soil_Type33', 'Soil_Type34', 'Soil_Type35', 'Soil_Type36',\n",
      "       'Soil_Type37', 'Soil_Type38', 'Soil_Type39', 'Soil_Type40',\n",
      "       'Cover_Type'],\n",
      "      dtype='object')\n"
     ]
    }
   ],
   "source": [
    "print(categorial_features)"
   ]
  },
  {
   "cell_type": "markdown",
   "metadata": {},
   "source": [
    "- Distribution des classes (barchat, countplot) : "
   ]
  },
  {
   "cell_type": "code",
   "execution_count": null,
   "metadata": {},
   "outputs": [
    {
     "ename": "NameError",
     "evalue": "name 'sns' is not defined",
     "output_type": "error",
     "traceback": [
      "\u001b[1;31m---------------------------------------------------------------------------\u001b[0m",
      "\u001b[1;31mNameError\u001b[0m                                 Traceback (most recent call last)",
      "Cell \u001b[1;32mIn[1], line 1\u001b[0m\n\u001b[1;32m----> 1\u001b[0m \u001b[43msns\u001b[49m\u001b[38;5;241m.\u001b[39mcountplot(df[\u001b[38;5;124m\"\u001b[39m\u001b[38;5;124mWilderness_Area1\u001b[39m\u001b[38;5;124m\"\u001b[39m])\n",
      "\u001b[1;31mNameError\u001b[0m: name 'sns' is not defined"
     ]
    }
   ],
   "source": [
    "sns.countplot(x=\"Wilderness_Area1\", data=df)"
   ]
  },
  {
   "cell_type": "markdown",
   "metadata": {
    "id": "Z8aUZURTiIef"
   },
   "source": [
    "## **3. Exploration Bi-variable**\n",
    "- ### Variables Continues (scatterplot, matrice de corrélation) :\n",
    "  - Corrélations : \n",
    "  - Observations :"
   ]
  },
  {
   "cell_type": "code",
   "execution_count": null,
   "metadata": {
    "id": "oMp75yHNmnnq"
   },
   "outputs": [],
   "source": []
  },
  {
   "cell_type": "markdown",
   "metadata": {},
   "source": [
    "- Visualisations de corrélations (heatmap, scatterplot) : "
   ]
  },
  {
   "cell_type": "code",
   "execution_count": null,
   "metadata": {},
   "outputs": [],
   "source": []
  },
  {
   "cell_type": "markdown",
   "metadata": {},
   "source": [
    "- Statistiques de corrélations (pearson, spearman, kendall) : "
   ]
  },
  {
   "cell_type": "code",
   "execution_count": null,
   "metadata": {},
   "outputs": [],
   "source": []
  },
  {
   "cell_type": "markdown",
   "metadata": {
    "id": "HQMSq42Cmoe8"
   },
   "source": [
    "- ### Variables Continues et Catégorielles :\n",
    "  - Corrélations : \n",
    "  - Skewness (>0.5 ou <-0.5) : `(décalé)` : \n",
    "  - Variance (cv >1) :\n",
    "  - Observations :"
   ]
  },
  {
   "cell_type": "code",
   "execution_count": null,
   "metadata": {
    "id": "ByINZ2_6m2Wu"
   },
   "outputs": [],
   "source": []
  },
  {
   "cell_type": "markdown",
   "metadata": {},
   "source": [
    "- Visualisations de corrélations (boxplot, violonplot, barplot) : "
   ]
  },
  {
   "cell_type": "code",
   "execution_count": null,
   "metadata": {},
   "outputs": [],
   "source": []
  },
  {
   "cell_type": "markdown",
   "metadata": {},
   "source": [
    "- Statistiques de bases (mean, skew, var) : "
   ]
  },
  {
   "cell_type": "code",
   "execution_count": null,
   "metadata": {},
   "outputs": [],
   "source": []
  },
  {
   "cell_type": "markdown",
   "metadata": {},
   "source": [
    "- Statistiques de relations (t de Student, ANOVA, Kruskal-Wallis, CDF, point-biserial) : "
   ]
  },
  {
   "cell_type": "code",
   "execution_count": null,
   "metadata": {},
   "outputs": [],
   "source": []
  },
  {
   "cell_type": "markdown",
   "metadata": {
    "id": "miJY6JYZm3Qn"
   },
   "source": [
    "- ### Variables Catégorielles (heatmap, cramer's-v, PMF, CDF) :\n",
    "  - Corrélations : \n",
    "  - Observations :"
   ]
  },
  {
   "cell_type": "code",
   "execution_count": null,
   "metadata": {
    "id": "8s7OlDKqn1Ci"
   },
   "outputs": [],
   "source": []
  },
  {
   "cell_type": "markdown",
   "metadata": {},
   "source": [
    "- Visualisations de corrélations (boxplot, violongplot, barplot) : "
   ]
  },
  {
   "cell_type": "code",
   "execution_count": null,
   "metadata": {},
   "outputs": [],
   "source": []
  },
  {
   "cell_type": "markdown",
   "metadata": {},
   "source": [
    "- Stastiques de corrélations (Cramér's V, chi2, fisher, kendall) : "
   ]
  },
  {
   "cell_type": "code",
   "execution_count": null,
   "metadata": {},
   "outputs": [],
   "source": []
  },
  {
   "cell_type": "markdown",
   "metadata": {},
   "source": [
    "- Statistiques de probabilités (CDF, PMF) : "
   ]
  },
  {
   "cell_type": "code",
   "execution_count": null,
   "metadata": {},
   "outputs": [],
   "source": []
  },
  {
   "cell_type": "markdown",
   "metadata": {
    "id": "xgLcD9bKn1RS"
   },
   "source": [
    "\n",
    "\n",
    "---\n",
    "\n",
    "\n",
    "## **4. Exploration Multi-variable**\n",
    "- ### Variables Continues (scatterplot, matrice de corrélation, régression/classification) :\n",
    "  - Corrélations : \n",
    "  - Observations :\n"
   ]
  },
  {
   "cell_type": "code",
   "execution_count": null,
   "metadata": {
    "id": "XjMIorLupf6S"
   },
   "outputs": [],
   "source": []
  },
  {
   "cell_type": "markdown",
   "metadata": {},
   "source": [
    "- Visualisations des corrélations (3d scatterplot, pairplot, heatmap, 3d surface plot) : "
   ]
  },
  {
   "cell_type": "code",
   "execution_count": null,
   "metadata": {},
   "outputs": [],
   "source": []
  },
  {
   "cell_type": "markdown",
   "metadata": {},
   "source": [
    "- Tests stastistiques (PCA, MANOVA, VIF) : "
   ]
  },
  {
   "cell_type": "code",
   "execution_count": null,
   "metadata": {},
   "outputs": [],
   "source": []
  },
  {
   "cell_type": "markdown",
   "metadata": {},
   "source": [
    "- Modélisation simple (régression/classification avec statsmodel) : "
   ]
  },
  {
   "cell_type": "code",
   "execution_count": null,
   "metadata": {},
   "outputs": [],
   "source": []
  },
  {
   "cell_type": "markdown",
   "metadata": {
    "id": "YzPpCzyyphpt"
   },
   "source": [
    "- ### Variables Continues et Catégorielles (boxplot, violonplot, barplot, heatmap, cramer's-v, PMF, PDF, CDF, régression/classification) :\n",
    "  - Corrélations : \n",
    "  - Observations :"
   ]
  },
  {
   "cell_type": "code",
   "execution_count": null,
   "metadata": {
    "id": "jp0JS3HepiO5"
   },
   "outputs": [],
   "source": []
  },
  {
   "cell_type": "markdown",
   "metadata": {},
   "source": [
    "- Visualisations des corrélations (boxplot, violonplot, histplot, pairplot hue=Category) : "
   ]
  },
  {
   "cell_type": "code",
   "execution_count": null,
   "metadata": {},
   "outputs": [],
   "source": []
  },
  {
   "cell_type": "markdown",
   "metadata": {},
   "source": [
    "- Tests statistiques (MANOVA, Kruskal-Wallis, Cochran-Mantel-Haenszel, test d'intéractions) :"
   ]
  },
  {
   "cell_type": "code",
   "execution_count": null,
   "metadata": {},
   "outputs": [],
   "source": []
  },
  {
   "cell_type": "markdown",
   "metadata": {},
   "source": [
    "- Modélisation simple (régression/classification avec statsmodel) : "
   ]
  },
  {
   "cell_type": "code",
   "execution_count": null,
   "metadata": {},
   "outputs": [],
   "source": []
  },
  {
   "cell_type": "markdown",
   "metadata": {
    "id": "-iTXC7C3pirT"
   },
   "source": [
    "- ### Variables Catégorielles (boxplot, violonplot, barplot, heatmap, cramer's-v, PMF, CDF, régression/classification) :\n",
    "  - Corrélations : \n",
    "  - Observations :"
   ]
  },
  {
   "cell_type": "code",
   "execution_count": null,
   "metadata": {
    "id": "5gtLCXyQpksH"
   },
   "outputs": [],
   "source": []
  },
  {
   "cell_type": "markdown",
   "metadata": {},
   "source": [
    "- Visualisations des corrélations (heatmap, catplot, pairplot, facetgrid) : "
   ]
  },
  {
   "cell_type": "code",
   "execution_count": null,
   "metadata": {},
   "outputs": [],
   "source": []
  },
  {
   "cell_type": "markdown",
   "metadata": {},
   "source": [
    "- Tests statistiques (cramèr's V, chi2, modèle log-linéaire, tests d'indépendances conditionnels)"
   ]
  },
  {
   "cell_type": "code",
   "execution_count": null,
   "metadata": {},
   "outputs": [],
   "source": []
  },
  {
   "cell_type": "markdown",
   "metadata": {},
   "source": [
    "- Modélisation simple (régression/classification avec statsmodel) : "
   ]
  },
  {
   "cell_type": "code",
   "execution_count": null,
   "metadata": {},
   "outputs": [],
   "source": []
  },
  {
   "cell_type": "markdown",
   "metadata": {
    "id": "wpgHz1njp2AK"
   },
   "source": [
    "\n",
    "\n",
    "---\n",
    "\n",
    "\n",
    "## **5. Préparation des données pour la modélisation**\n",
    "- ### Encodage :\n",
    "  - ### Target :\n",
    "  - ### Features :\n",
    "- ### Transformation :\n",
    "  - ### Feature Scaling :\n",
    "  - ### Transformation Mathématique :\n",
    "- ### Feature Engineering :"
   ]
  }
 ],
 "metadata": {
  "colab": {
   "provenance": []
  },
  "kernelspec": {
   "display_name": "Python 3",
   "language": "python",
   "name": "python3"
  },
  "language_info": {
   "codemirror_mode": {
    "name": "ipython",
    "version": 3
   },
   "file_extension": ".py",
   "mimetype": "text/x-python",
   "name": "python",
   "nbconvert_exporter": "python",
   "pygments_lexer": "ipython3",
   "version": "3.11.5"
  }
 },
 "nbformat": 4,
 "nbformat_minor": 0
}
